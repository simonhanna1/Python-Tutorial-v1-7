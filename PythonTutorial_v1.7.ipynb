{
 "cells": [
  {
   "cell_type": "markdown",
   "metadata": {
    "raw_mimetype": "text/latex"
   },
   "source": [
    "# Introduction to Computer Programming in Python"
   ]
  },
  {
   "cell_type": "markdown",
   "metadata": {},
   "source": [
    "Dr. Simon Hanna\n",
    "<br>\n",
    "Room: 3.44, email: s.hanna@bristol.ac.uk\n",
    "<br>\n",
    "Version 1.7\n",
    "<br>Last update: 16/09/2020"
   ]
  },
  {
   "cell_type": "markdown",
   "metadata": {},
   "source": [
    "# 1 Introduction"
   ]
  },
  {
   "cell_type": "markdown",
   "metadata": {},
   "source": [
    "## 1.1 Structure of course"
   ]
  },
  {
   "cell_type": "markdown",
   "metadata": {},
   "source": [
    "### 1.1.1 Instruction\n",
    "* A set of lectures, which will introduce the Python language, and discuss various computational methods.\n",
    "* Several synchronous online sessions to demonstrate key points regarding using and running Python.\n",
    "* This Python tutorial document.\n",
    "* A series of 2 hour online drop-in sessions, at various times during the Autumn and Spring terms, so that students can get help with their own code.\n",
    "    * Demonstrators will be available during these help sessions.\n",
    "    * Please direct questions to the demonstrators during these help sessions."
   ]
  },
  {
   "cell_type": "markdown",
   "metadata": {
    "raw_mimetype": "text/markdown"
   },
   "source": [
    "### 1.1.2 Assessment\n",
    "* There are 4 assessed exercises and 4 online tests - a precise breakdown of marks will be given in lectures and on Blackboard.\n",
    "* Marks will be given for functionality but also programming style. Is the code efficient and well set out (use comments)? Is the code efficient, easy to understand and logically laid out?\n",
    "* **Note that plagiarism will be checked for electronically.**\n",
    "\n",
    "Detection of plagiarism will normally result in:\n",
    "\n",
    "1. award of mark of zero\n",
    "2. repeat exercises\n",
    "3. a note on your record\n",
    "\n",
    "_Don’t do it....you will be caught!_"
   ]
  },
  {
   "cell_type": "markdown",
   "metadata": {},
   "source": [
    "### 1.1.3 Submiting your code\n",
    "* Submit your Python scripts via Blackboard.\n",
    "* Submit ONLY a single program file for each problem set.\n",
    "* Only use Python version 3.x, as documented in these notes.  (The current version is 3.8.3).  Python 2.x is very old and should not be used for new programs.  Python 3.x will be available using Anaconda on University of Bristol computers.\n",
    "* The deadlines for all exercises will be given on Blackboard and in lectures.\n",
    "* Standard Faculty of Science penalties for late work will be applied."
   ]
  },
  {
   "cell_type": "markdown",
   "metadata": {},
   "source": [
    "## 1.2 Learning Objectives\n",
    "To become proficient at writing simple computer code using the Python programming language. Specifically the course will cover:\n",
    "\n",
    "* Simple variables and objects\n",
    "* Operators\n",
    "* Branching\n",
    "* Looping\n",
    "* Input and output: console/keyboard and also via files\n",
    "* String manipulation\n",
    "* Functions\n",
    "* Arrays as defined in the `NumPy` module\n",
    "* Graph plotting"
   ]
  },
  {
   "cell_type": "markdown",
   "metadata": {},
   "source": [
    "## 1.3 Why learn Python?\n",
    "Computer programming has many uses in physics:\n",
    "* Solving problems numerically (virtually all real world physics problems are solved numerically) \n",
    "* Controlling equipment \n",
    "* Processing data, generating graphs etc.\n",
    "\n",
    "Python is an increasingly popular programming language, that combines flexibility with ease of learning and use. It is extremely well supported for scientific and mathematical applications, and contains modules for performing a wide range of numerical analyses and for generating high quality graphical output.  There is a wealth of books and online tutorials available to help get you started."
   ]
  },
  {
   "cell_type": "markdown",
   "metadata": {},
   "source": [
    "## 1.4 Books and online resources\n",
    "There are countless books available for learning Python.  You should look for an up-to-date text that focuses on Python 3.x. Two recent books that teach the language in the context of physical problem solving are:\n",
    "\n",
    "* <img src=\"figures/KinderNelson.png\" align=\"right\" width=\"160\"/> \n",
    "[Jesse Kinder & Philip Nelson: \"A Student's Guide to Python for Physical Modelling\" (Princeton University Press, Updated edition, 2018)](https://press.princeton.edu/titles/11349.html) A fairly short introduction that, however, covers all of the programming needed for the course, including the use of `NumPy` and `MatPlotLib`.\n",
    "\n",
    "* <img src=\"figures/Hill.jpg\" align=\"right\" width=\"160\"/> [Christian Hill: \"Learning Scientific Programming with Python\" (Cambridge University Press, 2016)](http://www.cambridge.org/gb/academic/subjects/physics/computational-science-and-modelling/learning-scientific-programming-python?format=PB) A more comprehensive text than Kinder & Nelson which is more useful for looking things up, but takes longer to read.\n",
    "\n",
    "Chapter references to the books by Kinder & Nelson, and Hill, will be given in the tutorial below.\n",
    "\n",
    "Then there is the Python tutorial from the Python Software Foundation:  \n",
    "\n",
    "* https://docs.python.org/3.6/tutorial/\n",
    "<img src=\"figures/python-logo.svg\" width=\"300\"/>\n",
    "\n",
    "\n",
    "and various online lectures, such as those by Robert Johansson that are based on IPython (Jupyter) notebooks:\n",
    "\n",
    "* https://github.com/jrjohansson/scientific-python-lectures"
   ]
  },
  {
   "cell_type": "markdown",
   "metadata": {},
   "source": [
    "## 1.5 Hardware / Software\n",
    "This course will focus (mainly) on standard Python 3.x and so can be run on any computer with a Python installation, i.e. a Windows PC, Apple Mac or Linux system.\n",
    "\n",
    "An Integrated Development Environment (IDE) such as Spyder is strictly not needed. You could just use a text editor (e.g. notepad) and run Python from the command line.\n",
    "\n",
    "BUT, an IDE does make life a lot easier.\n",
    "\n",
    "We will be using the Spyder IDE, togther with Jupyter notebooks (or Jupyter Lab), which are all available as part of the standard Anaconda distribution, available for free download from [Anaconda Inc](https://www.anaconda.com/downloads).  Anaconda, Jupyter and Spyder will be found on the PCs in Physics Rm 1.14 and across the University."
   ]
  },
  {
   "cell_type": "markdown",
   "metadata": {},
   "source": [
    "## 1.6 Installing Jupyter, Spyder + Python 3.8\n",
    "Download Anaconda, complete with Python 3.8.3, directly from [Anaconda Inc (https://www.anaconda.com/products/individual)](https://www.anaconda.com/downloads), for your particular computer hardware. The latest version is Anaconda 2020.07.  HINT: You will need to scroll down to the bottom of this page to find the download links.  You do NOT need to create an account.  Unless you have good reason to choose otherwise, you should choose the *Graphical Installer*.  Follow the instructions given on the web-page, and accept the default installation.  After the installation is complete, you will be left with a \"Navigator\" program which allows you to start up:\n",
    "\n",
    "1. the Spyder IDE (scientific Python development environment);\n",
    "2. the Jupyter notebook system (as used for these notes);\n",
    "3. the Jupyter Qt console, another way of running interactive Python (IPython);\n",
    "4. a few other utilities that you can ignore.\n",
    "\n",
    "This is how the Navigator should look (the exact layout and version numbers may vary):<br>\n",
    "<img src=\"figures/Navigator.png\" />\n",
    "\n",
    "You now have several different ways of running Python:\n",
    "\n",
    "* by typing Python statements in the Qt console (not recommended)\n",
    "* by executing Python code within a Jupyter notebook (needed for this tutorial and the exercises during the Autumn term)\n",
    "* within the Spyder IDE, typing and running scripts in the editing window (needed for the exercises in TB2)\n",
    "* within the Spyder IDE, typing Python code in the IPython console window (not recommended but occasionally useful)\n",
    "\n",
    "Here is an example of Spyder in action:<br>\n",
    "<img src=\"figures/Spyder.png\" />"
   ]
  },
  {
   "cell_type": "markdown",
   "metadata": {},
   "source": [
    "   \n",
    "# 2 Starting out: Using Python\n",
    "The recommended textbook by Kinder and Nelson (see above) is a very good tutorial guide - in particular reading the first four chapters and trying out the examples is a great way to get started.  The tutorial guide that follows below summarises the key points that you will need for the online tests and exercises. \n",
    "## 2.1 Viewing this tutorial in Jupyter Notebook\n",
    "As indicated above, there are several different ways of running Python code.  This tutorial contains many snippets of code.  You are therefore strongly encouraged to view this tutorial using Jupyter Notebook or Jupyter Lab.  If you do this, you will be able to run, and re-run, the code snippets within the web-page, modifying and testing as you go.  \n",
    "\n",
    "To launch Jupyter Notebook, first launch the Anaconda Navigator and then click on the appropriate button for Jupyter.  Either the Jupyter Lab or the Jupyter Notebook will work. Whichever you choose will launch a web-browser, which will present you with a view of your files on your computer.  You should click through to the folder containing this tutorial, and finally select the file *PythonTutorial_v1.7.ipynb*. \n",
    "\n",
    "You should now see an interactive version of this tutorial in your web-browser.  To run the code below, just click in the code cell and hit `\"Shift-Enter\"` or press the \"Play\" button in the toolbar above:"
   ]
  },
  {
   "cell_type": "code",
   "execution_count": 1,
   "metadata": {},
   "outputs": [
    {
     "name": "stdout",
     "output_type": "stream",
     "text": [
      "Hello, world!\n"
     ]
    }
   ],
   "source": [
    "#\n",
    "# My first Python program\n",
    "#\n",
    "print(\"Hello, world!\")"
   ]
  },
  {
   "cell_type": "markdown",
   "metadata": {},
   "source": [
    "In the above program, `\"print()\"` is a built-in Python function for printing to the screen, and the lines beginning with hashes (#) are comments, and are not executed."
   ]
  },
  {
   "cell_type": "markdown",
   "metadata": {},
   "source": [
    "## 2.2 Using the scientific Python development environment (Spyder)\n",
    "However, a more permanent approach to coding is to write code into a file (a Python script).  You can do this within Spyder, and see both the code and the result of running it in the same window.  Spyder has another big advantage: the `Variable Explorer` tab allows you to keep track of all variables while your program is running, which is extremely useful for fixing errors.\n",
    "\n",
    "You can create a new Python script by choosing `\"File --> New file...\"` in the Spyder (python) menu. The new script should open in a tab in the left-hand window.  Be sure to save the script in an appropriate folder; all python scripts should have the `.py` filename extension.\n",
    "\n",
    "Copy the lines of code from the cell above into your file.  Re-save the file and run it either by:\n",
    "* clicking the play button;\n",
    "* choosing `\"Run --> Run\"` in the spyder menu;\n",
    "* hitting `\"F5\"` on the keyboard.\n",
    "\n",
    "Observe the output from your program in the console window (bottom right of screen)."
   ]
  },
  {
   "cell_type": "markdown",
   "metadata": {},
   "source": [
    "## 2.3 Runtime errors\n",
    "If you make a mistake in typing your Python program, Python won't know how to execute your code.  When this happens, Python will issue one or more error messages, such as the following:"
   ]
  },
  {
   "cell_type": "code",
   "execution_count": 2,
   "metadata": {},
   "outputs": [
    {
     "ename": "NameError",
     "evalue": "name 'prnt' is not defined",
     "output_type": "error",
     "traceback": [
      "\u001b[0;31m---------------------------------------------------------------------------\u001b[0m",
      "\u001b[0;31mNameError\u001b[0m                                 Traceback (most recent call last)",
      "\u001b[0;32m<ipython-input-2-d448f4904744>\u001b[0m in \u001b[0;36m<module>\u001b[0;34m\u001b[0m\n\u001b[1;32m      2\u001b[0m \u001b[0;31m# My first (broken) Python program\u001b[0m\u001b[0;34m\u001b[0m\u001b[0;34m\u001b[0m\u001b[0;34m\u001b[0m\u001b[0m\n\u001b[1;32m      3\u001b[0m \u001b[0;31m#\u001b[0m\u001b[0;34m\u001b[0m\u001b[0;34m\u001b[0m\u001b[0;34m\u001b[0m\u001b[0m\n\u001b[0;32m----> 4\u001b[0;31m \u001b[0mprnt\u001b[0m\u001b[0;34m(\u001b[0m\u001b[0;34m\"Hello, world!\"\u001b[0m\u001b[0;34m)\u001b[0m\u001b[0;34m\u001b[0m\u001b[0;34m\u001b[0m\u001b[0m\n\u001b[0m",
      "\u001b[0;31mNameError\u001b[0m: name 'prnt' is not defined"
     ]
    }
   ],
   "source": [
    "#\n",
    "# My first (broken) Python program\n",
    "#\n",
    "prnt(\"Hello, world!\")"
   ]
  },
  {
   "cell_type": "markdown",
   "metadata": {},
   "source": [
    "In this case, the user has typed `\"prnt\"` instead of `\"print\"`.  Python does not recognise `\"prnt\"` and says so.  If you correct the error in the code above, and re-run the cell, the error message will go away.\n",
    "\n",
    "*Sometimes, a simple error can cause a flurry of error messages to appear. Don't worry if this happens - just look closely at the code highlighted and see if you can identify the mistake.*"
   ]
  },
  {
   "cell_type": "markdown",
   "metadata": {},
   "source": [
    "## 2.4 Debugging\n",
    "* If you are really struggling to identify the mistake in your program i.e. if it appears to run but produces the wrong answer, or does something unexpected, consider using the debugger built into Spyder (or whichever IDE / platform you are using):\n",
    "\n",
    "<img src=\"figures/debug1.png\" width = 200/>\n",
    "\n",
    "* With this you can:\n",
    "    * step through your code line by line checking the contents of the variables, step by step;\n",
    "    * step into or out of functions;\n",
    "    * set breakpoints to cause the program to halt execution at particular places;\n",
    "    * examine the values of variables and watch them change as the program executes.\n",
    "\n",
    "## 2.5 Initialising variables\n",
    "* Note that variables initially contain random values.\n",
    "* Usually this is not a problem, because you cannot use a variable until it has been defined.  e.g. try the following code:"
   ]
  },
  {
   "cell_type": "code",
   "execution_count": 3,
   "metadata": {},
   "outputs": [
    {
     "ename": "NameError",
     "evalue": "name 'BrandNewVariable' is not defined",
     "output_type": "error",
     "traceback": [
      "\u001b[0;31m---------------------------------------------------------------------------\u001b[0m",
      "\u001b[0;31mNameError\u001b[0m                                 Traceback (most recent call last)",
      "\u001b[0;32m<ipython-input-3-25b9b4f44839>\u001b[0m in \u001b[0;36m<module>\u001b[0;34m\u001b[0m\n\u001b[0;32m----> 1\u001b[0;31m \u001b[0mx\u001b[0m\u001b[0;34m=\u001b[0m\u001b[0mBrandNewVariable\u001b[0m\u001b[0;34m\u001b[0m\u001b[0;34m\u001b[0m\u001b[0m\n\u001b[0m\u001b[1;32m      2\u001b[0m \u001b[0mprint\u001b[0m\u001b[0;34m(\u001b[0m\u001b[0mx\u001b[0m\u001b[0;34m)\u001b[0m\u001b[0;34m\u001b[0m\u001b[0;34m\u001b[0m\u001b[0m\n",
      "\u001b[0;31mNameError\u001b[0m: name 'BrandNewVariable' is not defined"
     ]
    }
   ],
   "source": [
    "x=BrandNewVariable\n",
    "print(x)"
   ]
  },
  {
   "cell_type": "markdown",
   "metadata": {},
   "source": [
    "* The error message above indicates that `BrandNewVariable` has not been seen before, and so cannot be used.  \n",
    "* To avoid the problem, always assign values to variables before you use them.\n",
    "* As noted above, `list` objects can be both created and initialised using the following shorthand:"
   ]
  },
  {
   "cell_type": "code",
   "execution_count": 4,
   "metadata": {},
   "outputs": [
    {
     "name": "stdout",
     "output_type": "stream",
     "text": [
      "[0.0, 0.0, 0.0, 0.0, 0.0]\n"
     ]
    }
   ],
   "source": [
    "MyNewList = [0.0] * 5\n",
    "print(MyNewList)"
   ]
  },
  {
   "cell_type": "markdown",
   "metadata": {},
   "source": [
    "* In one notable case, i.e. the NumPy array, it is possible to allocate an empty array of values without assigning actual values.  This can cause unexpected problems and is best avoided.\n",
    "* A simple approach to allocating NumPy arrays (see below) is to use `numpy.zeros()` which automatically assigns all array elements as zero.  This will probably make more sense when you have read the section on Advanced Python, below."
   ]
  },
  {
   "cell_type": "markdown",
   "metadata": {},
   "source": [
    "# 3 The Python programming language: a very brief introduction\n",
    "## 3.1 Variables and Objects\n",
    "See Kinder and Nelson ch. 2.1 - 2.3; Hill ch. 2.2 - 2.4\n",
    "### 3.1.1 Introduction\n",
    "Variables represent computer memory spaces which store data.  A variable has a name, which usually consists of one or more letters or numbers, beginning with a letter, and a value.  Variables are created automatically, as needed. e.g.:"
   ]
  },
  {
   "cell_type": "code",
   "execution_count": 5,
   "metadata": {},
   "outputs": [
    {
     "name": "stdout",
     "output_type": "stream",
     "text": [
      "1212 3 3636 34523.34535 1.234e+21 (1+2j) Fred\n"
     ]
    }
   ],
   "source": [
    "i=1212\n",
    "j=3\n",
    "k=i*j\n",
    "x=34523.34535\n",
    "part2=1.234e21 # i.e. 1.234 times 10 to the power 21\n",
    "z = 1+2j  # j is the square root of -1\n",
    "name1 = 'Fred'\n",
    "print (i, j, k, x, part2, z, name1)"
   ]
  },
  {
   "cell_type": "markdown",
   "metadata": {},
   "source": [
    "The variables above are called `i`, `j`, `k`, `x`, `part2`, `z` and `name1`.\n",
    "* Variables in Python are also \"objects\".  \n",
    "* An object contains *attributes* including the value of the variable, and *methods* which are functions returning more information about the object.  \n",
    "* A list of the available methods and attributes for any object is given by the `dir(object_name)` command.  For example, if you execute the following code, you will see a list of almost 50 methods and attributes, MOST OF WHICH YOU CAN IGNORE.  The useful ones in the list are the last three: i.e. the method `z.conjugate()` , and the attributes `z.real` and `z.imag`."
   ]
  },
  {
   "cell_type": "code",
   "execution_count": 6,
   "metadata": {},
   "outputs": [
    {
     "data": {
      "text/plain": [
       "['__abs__',\n",
       " '__add__',\n",
       " '__bool__',\n",
       " '__class__',\n",
       " '__delattr__',\n",
       " '__dir__',\n",
       " '__divmod__',\n",
       " '__doc__',\n",
       " '__eq__',\n",
       " '__float__',\n",
       " '__floordiv__',\n",
       " '__format__',\n",
       " '__ge__',\n",
       " '__getattribute__',\n",
       " '__getnewargs__',\n",
       " '__gt__',\n",
       " '__hash__',\n",
       " '__init__',\n",
       " '__init_subclass__',\n",
       " '__int__',\n",
       " '__le__',\n",
       " '__lt__',\n",
       " '__mod__',\n",
       " '__mul__',\n",
       " '__ne__',\n",
       " '__neg__',\n",
       " '__new__',\n",
       " '__pos__',\n",
       " '__pow__',\n",
       " '__radd__',\n",
       " '__rdivmod__',\n",
       " '__reduce__',\n",
       " '__reduce_ex__',\n",
       " '__repr__',\n",
       " '__rfloordiv__',\n",
       " '__rmod__',\n",
       " '__rmul__',\n",
       " '__rpow__',\n",
       " '__rsub__',\n",
       " '__rtruediv__',\n",
       " '__setattr__',\n",
       " '__sizeof__',\n",
       " '__str__',\n",
       " '__sub__',\n",
       " '__subclasshook__',\n",
       " '__truediv__',\n",
       " 'conjugate',\n",
       " 'imag',\n",
       " 'real']"
      ]
     },
     "execution_count": 6,
     "metadata": {},
     "output_type": "execute_result"
    }
   ],
   "source": [
    "z = 1 + 2j\n",
    "dir(z)"
   ]
  },
  {
   "cell_type": "markdown",
   "metadata": {},
   "source": [
    "If we look again at the complex variable `z`, we can see the operation of the methods and attributes as follows.  "
   ]
  },
  {
   "cell_type": "code",
   "execution_count": 1,
   "metadata": {},
   "outputs": [
    {
     "name": "stdout",
     "output_type": "stream",
     "text": [
      "(1+2j) 1.0 2.0 (1-2j)\n"
     ]
    }
   ],
   "source": [
    "z = 1+2j  # j is the square root of -1\n",
    "print (z, z.real, z.imag, z.conjugate())"
   ]
  },
  {
   "cell_type": "markdown",
   "metadata": {},
   "source": [
    "Note that `z.conjugate()` is a method (and has brackets) because it needs to be calculated, whereas `z.real` and `z.imag` are attributes (no brackets) that are stored."
   ]
  },
  {
   "cell_type": "markdown",
   "metadata": {},
   "source": [
    "### 3.1.2 Different types of data\n",
    "\n",
    "#### The basic data types:\n",
    "\n",
    "* **integer:** (type `int`) for storing positive or negative integers.  Integers are stored exactly, using as much memory as necessary to represent all of the digits.\n",
    "* **floating point:** (type `float`) used to represent floating point numbers.  The memory used is fixed, with typically only 15 significant figures available.\n",
    "* **complex:** using the format `1+2j`, where `j` $=\\sqrt{-1}$.  Note the lack of any operator between the imaginary part and `j`.  The `complex` object is constructed from 2 `float` objects.  (Note the possibility of confusion between `j` representing $\\sqrt{-1}$ and `j` representing a variable).\n",
    "* **string:** (type `str`) for storing a string of characters e.g. 'Fred', 'Hello World!'.\n",
    "\n",
    "You will find all of the above useful.\n",
    "\n",
    "#### More sophisticated data types:\n",
    "\n",
    "* **list:** a sequence of arbitrary objects, enclosed between square brackets e.g. `[1, 2.3, \"Hello\"]`.\n",
    "* **tuple:** like a list but cannot be changed after creation (immutable), specified using round brackets e.g. `(\"AAPL\", 3.14, 100)`.\n",
    "* **set:** an unordered collection of objects, created with the `set()` function.\n",
    "* **dictionary:** a type of table that associates names with values.\n",
    "\n",
    "You will mostly just need the `list` and `tuple` types from the above.\n",
    "\n",
    "### 3.1.3 Changing data types\n",
    "The functions `int()`, `float()` and `str()` are used to convert between data types.  For example:"
   ]
  },
  {
   "cell_type": "code",
   "execution_count": 8,
   "metadata": {},
   "outputs": [
    {
     "name": "stdout",
     "output_type": "stream",
     "text": [
      "3.14159 3 3.14159 3.0\n"
     ]
    }
   ],
   "source": [
    "x = 3.14159\n",
    "y = int(x)\n",
    "z = str(x)\n",
    "w = float(y)\n",
    "print (x, y, z, w)"
   ]
  },
  {
   "cell_type": "markdown",
   "metadata": {},
   "source": [
    "`y` is the integer part of `x`, and `w` is `y` turned back into floating point.\n",
    "\n",
    "It is not obvious in the above that `z` is a string.  However, the following sum should make it clearer:"
   ]
  },
  {
   "cell_type": "code",
   "execution_count": 9,
   "metadata": {},
   "outputs": [
    {
     "name": "stdout",
     "output_type": "stream",
     "text": [
      "A string version of pi: 3.14159\n"
     ]
    }
   ],
   "source": [
    "u = 'A string version of pi: ' + z\n",
    "print (u)"
   ]
  },
  {
   "cell_type": "markdown",
   "metadata": {},
   "source": [
    "### 3.1.4 Object methods\n",
    "This is best illustrated by example.  If the variable `z` is a complex number, it is also a complex number *object*; the complex conjugate of `z` is available using the `conjugate()` *method*, as in:"
   ]
  },
  {
   "cell_type": "code",
   "execution_count": 10,
   "metadata": {
    "scrolled": true
   },
   "outputs": [
    {
     "name": "stdout",
     "output_type": "stream",
     "text": [
      "(1-2j)\n"
     ]
    }
   ],
   "source": [
    "z = 1 + 2j\n",
    "print ( z.conjugate() )"
   ]
  },
  {
   "cell_type": "markdown",
   "metadata": {},
   "source": [
    "* Note the need for brackets even though `z.conjugate()` has no arguments. They are needed because methods are functions which compute and return information relating to the object. \n",
    "* Whenever an object is created, its methods will be available using the syntax: `object_name.method()`.  \n",
    "\n",
    "### 3.1.5 Object attributes\n",
    "In addition, objects possess *attributes*, which are stored and do not need to be computed using a method.  In the case of the complex number object, attributes would include the value of the variable, and the values of its real and imaginary parts.  Attributes are used with a similar syntax to methods, but without the brackets i.e. `object_name.attribute`.  For example, attributes of the complex object would include the real and imaginary parts:"
   ]
  },
  {
   "cell_type": "code",
   "execution_count": 11,
   "metadata": {},
   "outputs": [
    {
     "name": "stdout",
     "output_type": "stream",
     "text": [
      "1.0 2.0 -2.0\n"
     ]
    }
   ],
   "source": [
    "print ( z.real, z.imag, z.conjugate().imag )"
   ]
  },
  {
   "cell_type": "markdown",
   "metadata": {},
   "source": [
    "## 3.2 Writing code\n",
    "See Kinder and Nelson ch. 1 & 3.3.4; Hill ch.1.\n",
    "### 3.2.1 Case Sensitivity\n",
    "* **NOTE** that Python is case sensitive !!\n",
    "* So\n",
    "`width`\n",
    "and\n",
    "`Width`\n",
    "are two different variables.\n",
    "* also\n",
    "`Print()` is not a function in standard Python but\n",
    "`print()` is.\n",
    "\n",
    "### 3.2.2 Comments\n",
    "* Appropriate use of comments is a very important element of good programming style.\n",
    "* Comments are simple English statements which explain what a particular piece of code does, or gives other information: For example – who wrote the code.\n",
    "* You can also use comments to temporarily take out bits of unused code (e.g. for debugging or other testing purposes).\n",
    "* There are two ways of making comments, these are illustrated below:"
   ]
  },
  {
   "cell_type": "code",
   "execution_count": 12,
   "metadata": {},
   "outputs": [
    {
     "name": "stdout",
     "output_type": "stream",
     "text": [
      "25.0 5\n"
     ]
    }
   ],
   "source": [
    "#\n",
    "# This program written 6th April 2016 by SH\n",
    "#\n",
    "# This is a single line comment.\n",
    "# This is another.\n",
    "#\n",
    "# This is the definition of a function:\n",
    "def myfunc(a,b):\n",
    "    \"\"\"This function returns the sum of the squares of a and b. This text\n",
    "    can be split across several lines, and acts as an extended comment.\n",
    "    However, it has another use, when used with the `help()` command (see below).\"\"\"\n",
    "    c = a*a + b*b\n",
    "    return c  # Comments can appear anywhere in a line\n",
    "\n",
    "# Test the function:\n",
    "print( myfunc(3.0, 4.0), myfunc(1,2))  # The function works for integers and floats"
   ]
  },
  {
   "cell_type": "markdown",
   "metadata": {},
   "source": [
    "The comment between the double triple-double quotations is known as a `docstring` because it provides documentation for the function.  It can be accessed as follows:\n",
    "1. Using the help command, which produces a nicely formatted piece of text;\n",
    "2. Printing the `__doc__` attribute of the `myfunc` object."
   ]
  },
  {
   "cell_type": "code",
   "execution_count": 13,
   "metadata": {},
   "outputs": [
    {
     "name": "stdout",
     "output_type": "stream",
     "text": [
      "-------------------------------------------------------------\n",
      "---> This is what you get by typing \"help (myfunc)\" <---\n",
      "-------------------------------------------------------------\n",
      "Help on function myfunc in module __main__:\n",
      "\n",
      "myfunc(a, b)\n",
      "    This function returns the sum of the squares of a and b. This text\n",
      "    can be split across several lines, and acts as an extended comment.\n",
      "    However, it has another use, when used with the `help()` command (see below).\n",
      "\n",
      "-------------------------------------------------------------\n",
      "---> This is what you get by printing \"myfunc.__doc__\" <---\n",
      "-------------------------------------------------------------\n",
      "This function returns the sum of the squares of a and b. This text\n",
      "    can be split across several lines, and acts as an extended comment.\n",
      "    However, it has another use, when used with the `help()` command (see below).\n",
      "-------------------------------------------------------------\n"
     ]
    }
   ],
   "source": [
    "print('-------------------------------------------------------------')\n",
    "print('---> This is what you get by typing \"help (myfunc)\" <---')\n",
    "print('-------------------------------------------------------------')\n",
    "help (myfunc)\n",
    "\n",
    "print('-------------------------------------------------------------')\n",
    "print('---> This is what you get by printing \"myfunc.__doc__\" <---')\n",
    "print('-------------------------------------------------------------')\n",
    "print(myfunc.__doc__)\n",
    "\n",
    "print('-------------------------------------------------------------')"
   ]
  },
  {
   "cell_type": "markdown",
   "metadata": {},
   "source": [
    "### 3.2.3 Floating Point Limits\n",
    "These depend on the computer and the version of Python being used.  You can find limits for your system by importing the `sys` module, and looking at appropriate attributes of `sys.float_info` as follows:"
   ]
  },
  {
   "cell_type": "code",
   "execution_count": 14,
   "metadata": {},
   "outputs": [
    {
     "name": "stdout",
     "output_type": "stream",
     "text": [
      "Smallest fractional difference between two floats:  2.220446049250313e-16\n",
      "Number of digits precision:  15\n",
      "Largest floating point number:  1.7976931348623157e+308\n",
      "Smallest floating point number:  2.2250738585072014e-308\n"
     ]
    }
   ],
   "source": [
    "import sys\n",
    "\n",
    "print( 'Smallest fractional difference between two floats: ', sys.float_info.epsilon )\n",
    "print( 'Number of digits precision: ', sys.float_info.dig )\n",
    "print( 'Largest floating point number: ', sys.float_info.max )\n",
    "print( 'Smallest floating point number: ', sys.float_info.min )"
   ]
  },
  {
   "cell_type": "markdown",
   "metadata": {},
   "source": [
    "It is important to be aware of these limits when writing programs.  Having only 15 digits of precision can lead to numerical errors in poorly crafted algorithms, while exceeding the largest or smallest allowed numbers can lead to a program crashing.\n",
    "\n",
    "## 3.3 Input and Output\n",
    "See Kinder and Nelson ch. 2.3 & 3.4; Hill ch. 2.3.\n",
    "### 3.3.1 Writing to screen \n",
    "Use the `print()` function to write output to the screen, as already demonstrated above.  However, to gain more control over the operation of `print()`, you need to be able to be able to **format** the numbers being printed.  There are several ways to achieve this.  Below we illustrate the `format()` method that belongs to any string variable, and the `%` operator:"
   ]
  },
  {
   "cell_type": "code",
   "execution_count": 15,
   "metadata": {},
   "outputs": [
    {
     "name": "stdout",
     "output_type": "stream",
     "text": [
      "1) Pi is approximately  3.14159265358979\n",
      "2) Pi is approximately 3.14159265358979\n",
      "-----\n",
      "3) Pi is roughly 3.14159\n",
      "4) Pi is roughly   3.14159\n",
      "5) 3.14159 is roughly the value of Pi\n",
      "-----\n",
      "6) pi is around about 3.142\n",
      "7) 3.142 is around about the value of pi\n",
      "-----\n",
      "5\n",
      " 5\n",
      "  5\n",
      "   5\n",
      "    5\n"
     ]
    }
   ],
   "source": [
    "pi = 3.14159265358979\n",
    "print('1) Pi is approximately ',pi)\n",
    "print('2) Pi is approximately ' + str(pi))\n",
    "print('-----')\n",
    "#\n",
    "# The format() method\n",
    "#\n",
    "print('3) {} is roughly {:.5f}'.format('Pi',pi))  # Format \".5f\" means floating point with\n",
    "                                               # 5 decimal places\n",
    "print('4) {} is roughly {:9.5f}'.format('Pi',pi))  # Format \"9.5f\" means floating point with\n",
    "                                               # 5 decimal places, and 9 characters in total\n",
    "print('5) {1:.5f} is roughly the value of {0}'.format('Pi',pi))  # Note order of arguments\n",
    "print('-----')\n",
    "#\n",
    "# The percent operator\n",
    "#\n",
    "print('6) %s is around about %.4g' % ('pi',pi))\n",
    "a = '7) %.4g is around about the value of %s'\n",
    "b = a % (pi,'pi')\n",
    "print(b)\n",
    "print('-----')\n",
    "#\n",
    "# Different field widths\n",
    "#\n",
    "i = 5\n",
    "print ('%1d' % (i))\n",
    "print ('%2d' % (i))\n",
    "print ('%3d' % (i))\n",
    "print ('%4d' % (i))\n",
    "print ('%5d' % (i))"
   ]
  },
  {
   "cell_type": "markdown",
   "metadata": {},
   "source": [
    "* The `format()` method belongs to all string objects. Arguments are inserted into the string in the order specified between the curly brackets e.g.`{1:.5f}` means *insert the 2nd argument (counting from zero) at this point, format it as a float with 5 d.p.*  It's use is **not** restricted to the `print()` function.\n",
    "* The `%` operator will operate on any string as well, but the arguments must be specified in the order they are needed.\n",
    "* Other format specifiers are:\n",
    " - `d` for a decimal integer\n",
    " - `b` for a binary integer\n",
    " - `x` for a hexadecimal integer\n",
    " - `s` for a string\n",
    " - `g` for general format in the smallest amount of space\n",
    " - `f` for a floating point number"
   ]
  },
  {
   "cell_type": "markdown",
   "metadata": {},
   "source": [
    "### 3.3.2 Input from keyboard\n",
    "Use the `input()` function to obtain a string from the keyboard, which you must convert to a number using `float()` or `int()`.  Try the following program:"
   ]
  },
  {
   "cell_type": "code",
   "execution_count": 16,
   "metadata": {},
   "outputs": [
    {
     "name": "stdout",
     "output_type": "stream",
     "text": [
      "Enter a number in the range 0 to 10: 3\n",
      "You entered the number:  3.0\n",
      "Thank you\n"
     ]
    }
   ],
   "source": [
    "MyNumber = -1\n",
    "while MyNumber < 0 or MyNumber > 10:\n",
    "    MyInput = input('Enter a number in the range 0 to 10: ')\n",
    "    MyNumber = float(MyInput)\n",
    "    print('You entered the number: ',MyNumber)\n",
    "print('Thank you')"
   ]
  },
  {
   "cell_type": "markdown",
   "metadata": {},
   "source": [
    "Note the use of a `while` loop to ensure the user enters a number in the correct range (see later)."
   ]
  },
  {
   "cell_type": "markdown",
   "metadata": {},
   "source": [
    "## 3.4 Doing Maths\n",
    "See Kinder and Nelson ch. 1.3, 1.4 & 3.2; Hill ch. 2.2.\n",
    "### 3.4.1 Mathematical Operators\n",
    "<img src=\"figures/MathOperators.png\" width=\"400\" />\n",
    "\n",
    "Examples:"
   ]
  },
  {
   "cell_type": "code",
   "execution_count": 17,
   "metadata": {},
   "outputs": [
    {
     "name": "stdout",
     "output_type": "stream",
     "text": [
      "i%j =  1\n",
      "i/j =  3.3333333333333335\n",
      "i//j =  3\n",
      "i**j =  1000\n"
     ]
    }
   ],
   "source": [
    "i = (3 + 2) * 2      # i.e. i = 10\n",
    "j = 3\n",
    "print (\"i%j = \",i%j) # divides i by j and returns the remainder (e.g., 10%3 = 1)\n",
    "print (\"i/j = \",i/j) # floating point division, result is 'float'\n",
    "print (\"i//j = \",i//j) # integer division, result is 'int'\n",
    "print (\"i**j = \",i**j) # raising to a power"
   ]
  },
  {
   "cell_type": "markdown",
   "metadata": {},
   "source": [
    "### 3.4.2 Operator Shorthand\n",
    "<img src=\"figures/MathOperatorShorthand.png\" width=\"200\" />\n",
    "\n",
    "In each of the above statements, the right-hand-side is evaluated taking the current values of `a` and `b`, and the result is placed back in the variable `a`.  For example:"
   ]
  },
  {
   "cell_type": "code",
   "execution_count": 18,
   "metadata": {},
   "outputs": [
    {
     "name": "stdout",
     "output_type": "stream",
     "text": [
      "109\n",
      "100\n",
      "900\n",
      "100.0\n",
      "1.0\n"
     ]
    }
   ],
   "source": [
    "a = 100\n",
    "b = 9\n",
    "a += b\n",
    "print (a)\n",
    "a -= b\n",
    "print (a)\n",
    "a *= b\n",
    "print (a)\n",
    "a /= b\n",
    "print (a)\n",
    "a %= b\n",
    "print (a)"
   ]
  },
  {
   "cell_type": "markdown",
   "metadata": {},
   "source": [
    "### 3.4.3 Mathematical functions\n",
    "Basic mathematical functions are not available in basic Python, but need to be added in by importing the math module.  There are several ways to achieve this, which each have slightly different effects:\n",
    "\n",
    "<img src=\"figures/MathImport.png\" width=\"500\" />\n",
    "\n",
    "\n",
    "Here is a brief list of some of the functions available.  There are many more, which can be found in the [Python math module documentation.](http://docs.python.org/3/library/math.html)\n",
    "\n",
    "<img src=\"figures/MathModule.png\" width=\"400\" />\n",
    "\n",
    "\n",
    "N.B. For trig functions, all arguments are in *radians*.  Examples:"
   ]
  },
  {
   "cell_type": "code",
   "execution_count": 19,
   "metadata": {},
   "outputs": [
    {
     "name": "stdout",
     "output_type": "stream",
     "text": [
      "sin(pi/4) =  0.7071067811865475\n",
      "cos(pi/4) =  0.7071067811865476\n",
      "tan(pi/4) =  0.9999999999999999\n"
     ]
    }
   ],
   "source": [
    "import math\n",
    "x = math.pi / 4 # math.pi = 3.14159...\n",
    "print(\"sin(pi/4) = \",math.sin(x))\n",
    "print(\"cos(pi/4) = \",math.cos(x))\n",
    "print(\"tan(pi/4) = \",math.tan(x))"
   ]
  },
  {
   "cell_type": "markdown",
   "metadata": {},
   "source": [
    "### 3.4.4 Functions of Complex Numbers\n",
    "These follow the same pattern as the `math` functions described above.  However, they are contained in a module called `cmath` (see the [Python cmath module documentation](https://docs.python.org/3/library/cmath.html)) and therefore have a different prefix\n",
    " \n",
    "<img src=\"figures/CmathModule.png\" width=\"450\" />\n",
    "\n",
    "N.B. the built-in function `abs(z)` returns the modulus of the complex number `z`.  There is no `cmath` equivalent.  Here is an example:"
   ]
  },
  {
   "cell_type": "code",
   "execution_count": 20,
   "metadata": {},
   "outputs": [
    {
     "name": "stdout",
     "output_type": "stream",
     "text": [
      "Modulus of z1:  1.4142135623730951\n",
      "Argument of z1:  0.7853981633974483  radians\n",
      "Square root of z1:  (1.09868411346781+0.45508986056222733j)\n"
     ]
    }
   ],
   "source": [
    "import cmath\n",
    "\n",
    "z1 = 1 + 1j # remember j is root(-1)\n",
    "\n",
    "print(\"Modulus of z1: \",abs(z1))\n",
    "print(\"Argument of z1: \",cmath.phase(z1),\" radians\")\n",
    "print(\"Square root of z1: \",cmath.sqrt(z1))"
   ]
  },
  {
   "cell_type": "markdown",
   "metadata": {},
   "source": [
    "### 3.4.5 Random numbers\n",
    "These are available using a module called `random` (see the [Python random module documentation](https://docs.python.org/3/library/random.html)).\n",
    "\n",
    "See also Kinder & Nelson ch. 6.2 & 7; Hill ch. 6.7 for alternative approaches.\n",
    "\n",
    "Random numbers are not really random, but follow a pseudo-random sequence generated by algorithm.  Every pseudo-random sequence must be given an initial `seed` to start it off.  It is common to use the system time (the time on the computer's internal clock) as the random number seed.\n",
    "\n",
    "The random module contains functions for generating random numbers from various different distributions.  The simplest are *rectangular* distributions of integers and floating point numbers.  For example:\n",
    "\n",
    "    random.seed()       # initialises the random number seed\n",
    "    random.randint(a,b) # random integer between (and including) a and b\n",
    "    random.random()     # random floating point number between 0.0 and 1.0\n",
    "    random.uniform(a,b) # random floating point number between a and b"
   ]
  },
  {
   "cell_type": "code",
   "execution_count": 21,
   "metadata": {},
   "outputs": [
    {
     "name": "stdout",
     "output_type": "stream",
     "text": [
      "0 4 0.8685290999745287\n",
      "1 5 0.4128911398938969\n",
      "2 1 0.7894114848229616\n",
      "3 6 0.2694931721406064\n",
      "4 2 0.49163680244566943\n",
      "5 1 0.5941650642949519\n",
      "6 5 0.41478622379529617\n",
      "7 1 0.26482149700406765\n",
      "8 6 0.48509933771741776\n",
      "9 4 0.8228245514682924\n"
     ]
    }
   ],
   "source": [
    "import random\n",
    "\n",
    "i=0\n",
    "a, b = 1, 6  # shorthand for saying a = 1 and b = 6\n",
    "random.seed()\n",
    "\n",
    "while i < 10:  # repeat this 10 times\n",
    "    print(i, random.randint(a,b), random.random()) # generate integers between 1 and 6 and \n",
    "                                                   # floating point numbers between 0.0 and 1.0.\n",
    "    i += 1"
   ]
  },
  {
   "cell_type": "markdown",
   "metadata": {},
   "source": [
    "### 3.4.6 Bytes, Bits and other storage\n",
    "* Bit = 1 or 0 , this is the most basic element of number storage\n",
    "* Byte = 8 bits, i.e, 00000000 to 11111111 in binary = 0..255 in decimal or 0..FF in Hexadecimal\n",
    "* All numbers are stored and manipulated as bits in computers. Different number types (e.g. integers or floats) are stored differently: even if they are the same number e.g. 1 and 1.0.\n",
    "* Small positive integers can be stored as a simple byte.  However, Python uses as many bytes as necessary to store each integer exactly.\n",
    "* Floating point numbers are typically stored in 8 bytes (64 bits) which means precision is limited to around 15 decimal digits only.  The 64 bits are divided as follows (IEEE 754 standard):\n",
    "    * Sign: 1 bit (represents `+` or `-`).\n",
    "    * Exponent: 11 bits (allows numbers in range $10^{-308}$ to $10^{308}$).\n",
    "    * Mantissa (or fractional part of number): 52 bits (allows 15 digits of precision, see section 3.2.3 above)."
   ]
  },
  {
   "cell_type": "markdown",
   "metadata": {},
   "source": [
    "## 3.5 Handling strings, lists, tuples and more\n",
    "See Kinder & Nelson ch. 2.2, 2.3; Hill ch. 2.3, 2.4.\n",
    "\n",
    "### 3.5.1 Strings\n",
    "\n",
    "* Generally, a string is a collection of characters: e.g. `“Hello”`.\n",
    "* They are usually stored in memory as their ASCII character codes:\n",
    "\n",
    "<img src=\"figures/standard-ascii-table-mod.jpg\" />\n",
    "\n",
    "* So “Hello” is stored as: 72,101,108,108,111 in decimal.\n",
    "* In Python, each character will occupy one or more bytes of memory, depending on the representation being used. \n",
    "\n",
    "#### Assignment:"
   ]
  },
  {
   "cell_type": "code",
   "execution_count": 22,
   "metadata": {},
   "outputs": [
    {
     "name": "stdout",
     "output_type": "stream",
     "text": [
      "-o--o--o--o-Hello World-o--o--o--o-\n"
     ]
    }
   ],
   "source": [
    "string1 = \"Hello\" # can use double quotes\n",
    "string2 = 'World' # or single quotes\n",
    "string3 = \"-o-\"*4\n",
    "string4 = string3 + string1 + ' ' + string2 + string3\n",
    "empty = \"\" # an empty string of zero length\n",
    "print(string4)"
   ]
  },
  {
   "cell_type": "markdown",
   "metadata": {},
   "source": [
    "#### Converting numbers to strings:\n",
    "* Use the `str()` function. e.g."
   ]
  },
  {
   "cell_type": "code",
   "execution_count": 23,
   "metadata": {},
   "outputs": [
    {
     "name": "stdout",
     "output_type": "stream",
     "text": [
      "100 100.0 1e+20\n"
     ]
    }
   ],
   "source": [
    "s1 = str(100)\n",
    "s2 = str(100.0)\n",
    "s3 = str(1e20)\n",
    "s4 = s1 + ' ' + s2 + ' ' + s3\n",
    "print(s4)"
   ]
  },
  {
   "cell_type": "markdown",
   "metadata": {},
   "source": [
    "`s4` now equals \"100 100.0 1e+20\""
   ]
  },
  {
   "cell_type": "markdown",
   "metadata": {},
   "source": [
    "#### Special \"escape\" sequences for extra format control\n",
    "* To include a quotation mark in a string, use the opposite quotes to define the string e.g.\n",
    "\n",
    "  * s1 = \"Fred's World\"\n",
    "    \n",
    "  * s2 = '\"Hello\", he said'\n",
    " \n",
    "* Other non-printing characters may be included by using the appropriate \"escape\" sequence, usually indicated by a backslash, `\\`.  Here are some common ones:\n",
    "\n",
    "<img src=\"figures/Escape.png\" width=\"250\" />\n",
    "\n",
    "For example:"
   ]
  },
  {
   "cell_type": "code",
   "execution_count": 24,
   "metadata": {},
   "outputs": [
    {
     "name": "stdout",
     "output_type": "stream",
     "text": [
      "Fred's\n",
      "World\n"
     ]
    }
   ],
   "source": [
    "s1 = 'Fred\\'s\\nWorld'\n",
    "print(s1)"
   ]
  },
  {
   "cell_type": "markdown",
   "metadata": {},
   "source": [
    "#### Slicing and dicing strings\n",
    "* Can be useful for reading in data from files (more on this later).\n",
    "* Individual characters in a string can be indexed (referred to) using square brackets, and counting from zero.\n",
    "* For example:"
   ]
  },
  {
   "cell_type": "code",
   "execution_count": 25,
   "metadata": {},
   "outputs": [
    {
     "name": "stdout",
     "output_type": "stream",
     "text": [
      "C a l\n"
     ]
    }
   ],
   "source": [
    "s1 = \"Captain Marvel\" # (c) Marvel Comics.\n",
    "print(s1[0], s1[4], s1[-1])"
   ]
  },
  {
   "cell_type": "markdown",
   "metadata": {},
   "source": [
    "* Note how the negative index counts back from the far end of the string.\n",
    "* A section of the string is obtained using `s1[i:j]`, which will include the `i`th character but exclude the `j`th.  For example:"
   ]
  },
  {
   "cell_type": "code",
   "execution_count": 26,
   "metadata": {},
   "outputs": [
    {
     "name": "stdout",
     "output_type": "stream",
     "text": [
      "tai\n",
      "Captain\n",
      " Marvel\n"
     ]
    }
   ],
   "source": [
    "print(s1[3:6])\n",
    "print(s1[:7])\n",
    "print(s1[7:])"
   ]
  },
  {
   "cell_type": "markdown",
   "metadata": {},
   "source": [
    "* Optionally, a third index may be used to specify the `step` used:"
   ]
  },
  {
   "cell_type": "code",
   "execution_count": 27,
   "metadata": {},
   "outputs": [
    {
     "name": "stdout",
     "output_type": "stream",
     "text": [
      "CpanMre\n"
     ]
    }
   ],
   "source": [
    "print(s1[::2]) # gives every other character of the whole string"
   ]
  },
  {
   "cell_type": "markdown",
   "metadata": {},
   "source": [
    "* To find whether a string includes a particular sub-string use the `in` operator:"
   ]
  },
  {
   "cell_type": "code",
   "execution_count": 28,
   "metadata": {},
   "outputs": [
    {
     "name": "stdout",
     "output_type": "stream",
     "text": [
      "True\n",
      "False\n"
     ]
    }
   ],
   "source": [
    "print('Captain' in s1)\n",
    "print('Sergeant' in s1)"
   ]
  },
  {
   "cell_type": "markdown",
   "metadata": {},
   "source": [
    "#### String Methods\n",
    "* Strings are *immutable* which means they cannot be redefined once created (although they can be completely replaced).\n",
    "* To find the length of a string (in characters) use the built-in `len()` method:"
   ]
  },
  {
   "cell_type": "code",
   "execution_count": 29,
   "metadata": {},
   "outputs": [
    {
     "name": "stdout",
     "output_type": "stream",
     "text": [
      "Length of s1 is  14  characters.\n"
     ]
    }
   ],
   "source": [
    "print(\"Length of s1 is \",len(s1),\" characters.\")"
   ]
  },
  {
   "cell_type": "markdown",
   "metadata": {},
   "source": [
    "`len()` also works with lists and other multi-element objects.\n",
    "* There are many *methods* available for operating on strings e.g. we have already met the `format()` method when printing strings using `print()`.\n",
    "* Here is a selection (see textbooks for more):\n",
    "\n",
    "<img src=\"figures/StringMethods.png\" width=\"500\" />\n",
    "\n",
    "Other functions include `upper()`, `lower()` and `title()` for changing the case of the string and `replace(old,new)` for swapping occurences of `old` with `new` within a string.\n",
    "\n",
    "In addition, we have already met the following functions for converting strings to integers or floats:\n",
    "\n",
    "* `int(string)` converts a string to an integer\n",
    "* `float(string)` converts a string to a floating point numbers\n",
    "* Here are some examples.  In each case, the original string is unchanged:"
   ]
  },
  {
   "cell_type": "code",
   "execution_count": 30,
   "metadata": {},
   "outputs": [
    {
     "name": "stdout",
     "output_type": "stream",
     "text": [
      "17\n"
     ]
    }
   ],
   "source": [
    "s2 = \"Guardians of the Galaxy\" # (c) Marvel Comics\n",
    "print(s2.index(\"Galaxy\"))"
   ]
  },
  {
   "cell_type": "code",
   "execution_count": 31,
   "metadata": {},
   "outputs": [
    {
     "name": "stdout",
     "output_type": "stream",
     "text": [
      "There are  4  substrings\n",
      "  substring 1:  Guardians\n",
      "  substring 2:  of\n",
      "  substring 3:  the\n",
      "  substring 4:  Galaxy\n"
     ]
    }
   ],
   "source": [
    "s3 = s2.split(\" \")\n",
    "print(\"There are \",len(s3),\" substrings\")\n",
    "print(\"  substring 1: \",s3[0])\n",
    "print(\"  substring 2: \",s3[1])\n",
    "print(\"  substring 3: \",s3[2])\n",
    "print(\"  substring 4: \",s3[3]) "
   ]
  },
  {
   "cell_type": "code",
   "execution_count": 32,
   "metadata": {},
   "outputs": [
    {
     "name": "stdout",
     "output_type": "stream",
     "text": [
      "Character  0 is \"1\" and is numeric\n",
      "Character  1 is \"0\" and is numeric\n",
      "Character  2 is \" \" and is not alphanumeric\n",
      "Character  3 is \"G\" and is alphabetic\n",
      "Character  4 is \"r\" and is alphabetic\n",
      "Character  5 is \"e\" and is alphabetic\n",
      "Character  6 is \"e\" and is alphabetic\n",
      "Character  7 is \"n\" and is alphabetic\n",
      "Character  8 is \" \" and is not alphanumeric\n",
      "Character  9 is \"B\" and is alphabetic\n",
      "Character 10 is \"o\" and is alphabetic\n",
      "Character 11 is \"t\" and is alphabetic\n",
      "Character 12 is \"t\" and is alphabetic\n",
      "Character 13 is \"l\" and is alphabetic\n",
      "Character 14 is \"e\" and is alphabetic\n",
      "Character 15 is \"s\" and is alphabetic\n"
     ]
    }
   ],
   "source": [
    "# Example use of string methods\n",
    "#\n",
    "# 'for', 'range' and 'if, elif, else' will be covered in later sections\n",
    "\n",
    "string1 = \"10 Green Bottles\"\n",
    "\n",
    "for i in range(len(string1)):\n",
    "    if string1[i].isalpha():\n",
    "        print(\"Character %2d is \\\"%s\\\" and is alphabetic\" % (i,string1[i]))\n",
    "    elif string1[i].isdigit():\n",
    "        print(\"Character %2d is \\\"%s\\\" and is numeric\" % (i,string1[i]))\n",
    "    else:\n",
    "        print(\"Character %2d is \\\"%s\\\" and is not alphanumeric\" % (i,string1[i]))\n"
   ]
  },
  {
   "cell_type": "code",
   "execution_count": 33,
   "metadata": {},
   "outputs": [
    {
     "name": "stdout",
     "output_type": "stream",
     "text": [
      "The number was 34.556500\n"
     ]
    }
   ],
   "source": [
    "# Another string example\n",
    "#\n",
    "#Could be used when reading data from a file where numbers and text are mixed\n",
    "\n",
    "string1 = \"Width=34.5565\"  # load values into string1\n",
    "\n",
    "numbit = string1[string1.index('=')+1:]  # find the position of the = sign\n",
    "                                         # then copy the substring into numbit\n",
    "width = float(numbit)  # do the conversion, if numbit is not numeric then the conversion will fail\n",
    "\n",
    "print(\"The number was %f\" % (width))  # display the result of the conversion"
   ]
  },
  {
   "cell_type": "markdown",
   "metadata": {},
   "source": [
    "### 3.5.2 Lists\n",
    "* A *list* is an ordered array of objects, separated by commas within square brackets.  For example:"
   ]
  },
  {
   "cell_type": "code",
   "execution_count": 34,
   "metadata": {},
   "outputs": [
    {
     "name": "stdout",
     "output_type": "stream",
     "text": [
      "[1, 3.1415, 'Tuesday', (1+1j)]\n"
     ]
    }
   ],
   "source": [
    "MyList = [1, 3.1415, \"Tuesday\", 1+1j]\n",
    "print(MyList)"
   ]
  },
  {
   "cell_type": "markdown",
   "metadata": {},
   "source": [
    "* Elements in lists are referenced using square brackets, numbering from zero:"
   ]
  },
  {
   "cell_type": "code",
   "execution_count": 35,
   "metadata": {},
   "outputs": [
    {
     "name": "stdout",
     "output_type": "stream",
     "text": [
      "1 (1+1j)\n"
     ]
    }
   ],
   "source": [
    "print(MyList[0], MyList[3])"
   ]
  },
  {
   "cell_type": "markdown",
   "metadata": {},
   "source": [
    "* Lists can contain other lists:"
   ]
  },
  {
   "cell_type": "code",
   "execution_count": 36,
   "metadata": {},
   "outputs": [
    {
     "name": "stdout",
     "output_type": "stream",
     "text": [
      "[3.162, [1, 3.1415, 'Tuesday', (1+1j)], 1.414]\n"
     ]
    }
   ],
   "source": [
    "MyNewList = [3.162, MyList, 1.414]\n",
    "print(MyNewList)"
   ]
  },
  {
   "cell_type": "markdown",
   "metadata": {},
   "source": [
    "* Nested lists and strings can be accessed using repeated square brackets. e.g. for the 2nd item in `MyNewList[1]` use:"
   ]
  },
  {
   "cell_type": "code",
   "execution_count": 37,
   "metadata": {},
   "outputs": [
    {
     "data": {
      "text/plain": [
       "3.1415"
      ]
     },
     "execution_count": 37,
     "metadata": {},
     "output_type": "execute_result"
    }
   ],
   "source": [
    "MyNewList[1][1]"
   ]
  },
  {
   "cell_type": "markdown",
   "metadata": {},
   "source": [
    "* and for the 4th letter of the 3rd item in MyNewList[1] use:"
   ]
  },
  {
   "cell_type": "code",
   "execution_count": 38,
   "metadata": {
    "scrolled": true
   },
   "outputs": [
    {
     "data": {
      "text/plain": [
       "'s'"
      ]
     },
     "execution_count": 38,
     "metadata": {},
     "output_type": "execute_result"
    }
   ],
   "source": [
    "MyNewList[1][2][3]"
   ]
  },
  {
   "cell_type": "markdown",
   "metadata": {},
   "source": [
    "We met lists previously, when handling strings. Recall:"
   ]
  },
  {
   "cell_type": "code",
   "execution_count": 39,
   "metadata": {},
   "outputs": [
    {
     "name": "stdout",
     "output_type": "stream",
     "text": [
      "['Guardians', 'Of', 'The', 'Galaxy']\n"
     ]
    }
   ],
   "source": [
    "s2 = \"Guardians Of The Galaxy\"\n",
    "s3 = s2.split(\" \") # s3 is a list of strings (words)\n",
    "print(s3)"
   ]
  },
  {
   "cell_type": "markdown",
   "metadata": {},
   "source": [
    "Lists are *mutable* which means they can be changed, lengthened and shortened after creation (unlike strings which are immutable).  For example:"
   ]
  },
  {
   "cell_type": "code",
   "execution_count": 40,
   "metadata": {},
   "outputs": [
    {
     "name": "stdout",
     "output_type": "stream",
     "text": [
      "['Stars', 'Of', 'The', 'Galaxy']\n"
     ]
    }
   ],
   "source": [
    "s3[0] = \"Stars\"\n",
    "print(s3)"
   ]
  },
  {
   "cell_type": "markdown",
   "metadata": {},
   "source": [
    "Here are some examples of `list` methods (see textbooks for other examples):"
   ]
  },
  {
   "cell_type": "code",
   "execution_count": 41,
   "metadata": {},
   "outputs": [
    {
     "name": "stdout",
     "output_type": "stream",
     "text": [
      "['Stars', 'Of', 'The', 'local', 'Galaxy']\n"
     ]
    }
   ],
   "source": [
    "s3.insert(3,\"local\")  # insert a new element at a specified location\n",
    "print(s3)"
   ]
  },
  {
   "cell_type": "code",
   "execution_count": 42,
   "metadata": {},
   "outputs": [
    {
     "name": "stdout",
     "output_type": "stream",
     "text": [
      "['Stars', 'Of', 'The', 'local', 'Galaxy', 'Masters']\n"
     ]
    }
   ],
   "source": [
    "s3.append(\"Masters\")  # add an element to the end of the list\n",
    "print(s3)"
   ]
  },
  {
   "cell_type": "code",
   "execution_count": 43,
   "metadata": {},
   "outputs": [
    {
     "name": "stdout",
     "output_type": "stream",
     "text": [
      "['Of', 'The', 'Galaxy', 'Masters']\n"
     ]
    }
   ],
   "source": [
    "s3.remove(\"Stars\")  # remove the first occurrence of a particular element\n",
    "s3.remove(\"local\")  # remove the first occurrence of a particular element\n",
    "print(s3)"
   ]
  },
  {
   "cell_type": "code",
   "execution_count": 44,
   "metadata": {},
   "outputs": [
    {
     "name": "stdout",
     "output_type": "stream",
     "text": [
      "['Masters', 'Of', 'The', 'Universe']\n"
     ]
    }
   ],
   "source": [
    "s3[2] = 'Universe'\n",
    "s3.sort()  # sort in the list in place (this is alphabetical...)\n",
    "print(s3)"
   ]
  },
  {
   "cell_type": "markdown",
   "metadata": {},
   "source": [
    "Lists of numbers can be useful for storing data, for example, for graphs.  However, in general lists are quite inefficient both in their use of memory and the time taken to access individual elements.  For serious numerical work, therefore, it is recommended that you use NumPy arrays instead of lists (see later, section 6.1)."
   ]
  },
  {
   "cell_type": "markdown",
   "metadata": {},
   "source": [
    "### 3.5.3 Tuples, sets and dictionaries\n",
    "\n",
    "#### Tuples\n",
    "A `tuple` is similar to a list but cannot be altered after creation i.e. it is immutable.  Tuples are indicated through the use of round brackets in their definitions, and may be indexed in the same way as strings and lists (using square brackets).  For example:  "
   ]
  },
  {
   "cell_type": "code",
   "execution_count": 45,
   "metadata": {},
   "outputs": [
    {
     "name": "stdout",
     "output_type": "stream",
     "text": [
      "(1.23, 4, 'five', [6, 7, 8]) \n",
      " five \n",
      " [6, 7, 8]\n"
     ]
    }
   ],
   "source": [
    "My_Tuple = (1.23, 4, 'five', [6,7,8])\n",
    "print(My_Tuple,'\\n',My_Tuple[2],'\\n',My_Tuple[3])"
   ]
  },
  {
   "cell_type": "markdown",
   "metadata": {},
   "source": [
    "We will come across occasional uses for tuples.  One example is in initialising variables:\n",
    "  > `x, y, z = 1.0, 2.0, 3.0`\n",
    "  \n",
    "makes the assignment x=1.0, y=2.0, z=3.0, while:\n",
    "  > `u, v = v, u`\n",
    "  \n",
    "swaps the values of the variables u and v.\n",
    "\n",
    "#### Dictionaries and Sets\n",
    "* A `Dictionary` is an object that consists of associated *key-value* pairs.  For example:"
   ]
  },
  {
   "cell_type": "code",
   "execution_count": 46,
   "metadata": {},
   "outputs": [
    {
     "name": "stdout",
     "output_type": "stream",
     "text": [
      "The density of water is: 1000.0 kg/m3\n",
      "The density of gold is: 19320.0 kg/m3\n"
     ]
    }
   ],
   "source": [
    "densitySI = {'water': 1000.0, 'gold': 19320.0, 'mercury': 13546.0, 'air': 1.2, 'helium': 0.179}\n",
    "print(\"The density of water is:\",densitySI['water'],\"kg/m3\")\n",
    "print(\"The density of gold is:\", densitySI['gold'],\"kg/m3\")"
   ]
  },
  {
   "cell_type": "markdown",
   "metadata": {},
   "source": [
    "* Note the use of curly brackets in the definition of `densitySI`.\n",
    "\n",
    "* A `set` is a *mutable* object that consists of an unordered collection of unique items.  For example the set defined by `{1, 2, 3, 3, 2, 3, 4, 5, 4, 2, 1}` contains 5 unique entries:"
   ]
  },
  {
   "cell_type": "code",
   "execution_count": 47,
   "metadata": {},
   "outputs": [
    {
     "name": "stdout",
     "output_type": "stream",
     "text": [
      "{1, 2, 3, 4, 5}\n"
     ]
    }
   ],
   "source": [
    "MySet = {1, 2, 3, 5, 2, 3, 4, 5, 4, 2, 1}\n",
    "print(MySet)"
   ]
  },
  {
   "cell_type": "markdown",
   "metadata": {},
   "source": [
    "* Note the use of curly brackets in the definition of `densitySI`.\n",
    "\n",
    "* Dictionaries and Sets are covered in more detail in the recommended textbooks and will only be of limited use in the Computational Physics assignments."
   ]
  },
  {
   "cell_type": "markdown",
   "metadata": {},
   "source": [
    "# 4 Program Control\n",
    "## 4.1 Loops\n",
    "See Kinder & Nelson ch. 3.1; Hill ch. 2.4.3, 2.5.\n",
    "\n",
    "The big advantage of computer programs over manual calculation is the ability to repeat operations many times, very quickly.  To achieve this, some sort of a program loop is required.  There are two types of loop structure in common use in Python: the `for` loop and the `while` loop.  Both will be explained below.\n",
    "### 4.1.1 \"for\" loops\n",
    "The `for` loop requires the idea of an `iterable` object, so we begin with that.  An iterable object is essentially an object that contains many elements which may be cycled through in sequence.  `tuples` and `lists` are examples of iterable objects.  The basic structure is as follows:\n",
    "\n",
    "    for *item* in *iterable_object*:\n",
    "        # do some stuff\n",
    "      \n",
    "* `*item*` is an element from the iterable object, taken in sequence.\n",
    "* `*iterable_object*` could be a list of numbers, `[1, 2, 3, 4, 5]`, or other items, `['England', 'Northern Ireland', 'Scotland', 'Wales']`.\n",
    "* The colon `\":\"` indicates the start of the loop.\n",
    "* All the lines to be executed within the loop must be indented, and by an identical amount (e.g. one tab, 4 spaces etc).  Tabs and spaces cannot be mixed.  The end of the loop will be the end of the indented section.\n",
    "* Incorrect use of indents can be a cause of great anguish to the novice Python programmer.\n",
    "\n",
    "Here are some examples."
   ]
  },
  {
   "cell_type": "code",
   "execution_count": 48,
   "metadata": {},
   "outputs": [
    {
     "name": "stdout",
     "output_type": "stream",
     "text": [
      "England\n",
      "Northern Ireland\n",
      "Scotland\n",
      "Wales\n"
     ]
    }
   ],
   "source": [
    "for Country in ['England', 'Northern Ireland', 'Scotland', 'Wales']:\n",
    "    print(Country)"
   ]
  },
  {
   "cell_type": "markdown",
   "metadata": {},
   "source": [
    "In the above, a variable called `Country` is created and assigned, in turn, to each of the names in the list.\n",
    "\n",
    "In the following example, the variable `i` is set to each of the list of integers shown:"
   ]
  },
  {
   "cell_type": "code",
   "execution_count": 49,
   "metadata": {},
   "outputs": [
    {
     "name": "stdout",
     "output_type": "stream",
     "text": [
      "i: 1 i^2: 1 i^3: 1\n",
      "i: 3 i^2: 9 i^3: 27\n",
      "i: 2 i^2: 4 i^3: 8\n",
      "i: 6 i^2: 36 i^3: 216\n",
      "i: 5 i^2: 25 i^3: 125\n",
      "End of loop\n"
     ]
    }
   ],
   "source": [
    "for i in [1,3,2,6,5]:\n",
    "    print(\"i:\",i,\"i^2:\",i*i,\"i^3:\",i*i*i)\n",
    "print(\"End of loop\")"
   ]
  },
  {
   "cell_type": "markdown",
   "metadata": {},
   "source": [
    "Note, in the following, the use of the iterable `range()` object.  `range()` has three forms, as indicated.  `range(n)` produces a set of integers from `0` to `n-1`:"
   ]
  },
  {
   "cell_type": "code",
   "execution_count": 50,
   "metadata": {},
   "outputs": [
    {
     "name": "stdout",
     "output_type": "stream",
     "text": [
      "0\n",
      "1\n",
      "2\n",
      "3\n",
      "4\n"
     ]
    }
   ],
   "source": [
    "for i in range(5):\n",
    "    print(i)"
   ]
  },
  {
   "cell_type": "markdown",
   "metadata": {},
   "source": [
    "`range(m,n)` produces integers from `m` to `n-1`:"
   ]
  },
  {
   "cell_type": "code",
   "execution_count": 51,
   "metadata": {},
   "outputs": [
    {
     "name": "stdout",
     "output_type": "stream",
     "text": [
      "2\n",
      "3\n",
      "4\n",
      "5\n",
      "6\n"
     ]
    }
   ],
   "source": [
    "for i in range(2,7):\n",
    "    print(i)"
   ]
  },
  {
   "cell_type": "markdown",
   "metadata": {},
   "source": [
    "and `range(m,n,s)` produces integers from `m` in steps of `s`, ending one value before `n`: "
   ]
  },
  {
   "cell_type": "code",
   "execution_count": 52,
   "metadata": {},
   "outputs": [
    {
     "name": "stdout",
     "output_type": "stream",
     "text": [
      "10\n",
      "8\n",
      "6\n",
      "4\n",
      "2\n"
     ]
    }
   ],
   "source": [
    "for i in range(10,0,-2):\n",
    "    print(i)"
   ]
  },
  {
   "cell_type": "markdown",
   "metadata": {},
   "source": [
    "### 4.1.2 \"while\" loops\n",
    "We have already met the `while` loop.  The basic structure is:\n",
    "\n",
    "    while *condition_is_true*:\n",
    "        # do some stuff\n",
    "\n",
    "As with the `for` loop, the `while` loop will repeat only the indented part of the code.  All indents must be an identical number of tabs or spaces.  For example:"
   ]
  },
  {
   "cell_type": "code",
   "execution_count": 53,
   "metadata": {},
   "outputs": [
    {
     "name": "stdout",
     "output_type": "stream",
     "text": [
      "i= 0 i^2= 0\n",
      "i= 2 i^2= 4\n",
      "i= 4 i^2= 16\n",
      "i= 6 i^2= 36\n",
      "i= 8 i^2= 64\n"
     ]
    }
   ],
   "source": [
    "i=0  # Initialise the variable\n",
    "while (i<10):\n",
    "    print(\"i=\",i,\"i^2=\",i*i)\n",
    "    i+=2 # increment the variable"
   ]
  },
  {
   "cell_type": "markdown",
   "metadata": {},
   "source": [
    "Another example: a very poor method of numerical integration. This short program will perform the integral: $\\int_0^{\\infty}\\frac{\\sin(x)}{\\exp(x)+4}\\mathrm{d}x$, where infinity is approximated by 10."
   ]
  },
  {
   "cell_type": "code",
   "execution_count": 54,
   "metadata": {},
   "outputs": [
    {
     "name": "stdout",
     "output_type": "stream",
     "text": [
      "Value of integral is: 0.2090887803611044\n"
     ]
    }
   ],
   "source": [
    "#\n",
    "# A method to integrate a function by summing lots of rectangles\n",
    "#\n",
    "\n",
    "import math\n",
    "\n",
    "xmin = 0.0        # minimum x value for integral\n",
    "xinfinity = 10.0  # maximum x value for integral\n",
    "numsteps = 10000  # number of rectangles to approximate integral\n",
    "xstep = xinfinity / numsteps  # width of a rectangle, i.e. dx\n",
    "x = xmin          # current x value\n",
    "i = 0             # loop counter\n",
    "sum = 0.0         # the current value of the integral\n",
    "    \n",
    "while (x<xinfinity):\n",
    "    x = xmin + i*xstep\n",
    "    sum += math.sin(x)/(math.exp(x)+4)*xstep\n",
    "    i += 1\n",
    "\n",
    "print(\"Value of integral is:\",sum)"
   ]
  },
  {
   "cell_type": "markdown",
   "metadata": {},
   "source": [
    "For information, the function appears as follows.  We will cover plotting later on. <img src=\"figures/graph2.jpg\" width = 500 />"
   ]
  },
  {
   "cell_type": "markdown",
   "metadata": {},
   "source": [
    "### 4.1.3 Nested loops\n",
    "Loops can be nested, by using multiple indentation.  For example, the following short program prints products: $i\\times j$ where $i=1\\ldots3$ and $j=1\\ldots3$:"
   ]
  },
  {
   "cell_type": "code",
   "execution_count": 55,
   "metadata": {},
   "outputs": [
    {
     "name": "stdout",
     "output_type": "stream",
     "text": [
      "-------------\n",
      "| 1 x 1 = 1 |\n",
      "| 1 x 2 = 2 |\n",
      "| 1 x 3 = 3 |\n",
      "-------------\n",
      "| 2 x 1 = 2 |\n",
      "| 2 x 2 = 4 |\n",
      "| 2 x 3 = 6 |\n",
      "-------------\n",
      "| 3 x 1 = 3 |\n",
      "| 3 x 2 = 6 |\n",
      "| 3 x 3 = 9 |\n",
      "-------------\n"
     ]
    }
   ],
   "source": [
    "i = 0\n",
    "while (i<3):\n",
    "    i += 1\n",
    "    j = 0\n",
    "    print(\"-------------\")\n",
    "    while (j<3):\n",
    "        j += 1\n",
    "        print(\"|\",i,\"x\", j,\"=\", i*j,\"|\")\n",
    "print(\"-------------\")    "
   ]
  },
  {
   "cell_type": "markdown",
   "metadata": {},
   "source": [
    "### 4.1.4 Breaking out of a loop\n",
    "* You can break out of a loop using the `break` statement.  Here is the previous example with a break when the product gets too big:"
   ]
  },
  {
   "cell_type": "code",
   "execution_count": 56,
   "metadata": {},
   "outputs": [
    {
     "name": "stdout",
     "output_type": "stream",
     "text": [
      "-------------\n",
      "| 1 x 1 = 1 |\n",
      "| 1 x 2 = 2 |\n",
      "| 1 x 3 = 3 |\n",
      "-------------\n",
      "| 2 x 1 = 2 |\n",
      "| 2 x 2 = 4 |\n",
      "| Too big!! |\n",
      "-------------\n",
      "| 3 x 1 = 3 |\n",
      "| Too big!! |\n",
      "-------------\n"
     ]
    }
   ],
   "source": [
    "i = 0\n",
    "while (i<3):\n",
    "    i += 1\n",
    "    j = 0\n",
    "    print(\"-------------\")\n",
    "    while (j<3):\n",
    "        j += 1\n",
    "        if i*j > 4:\n",
    "            print(\"| Too big!! |\")\n",
    "            break\n",
    "        print(\"|\",i,\"x\", j,\"=\", i*j,\"|\")\n",
    "print(\"-------------\")    "
   ]
  },
  {
   "cell_type": "markdown",
   "metadata": {},
   "source": [
    "## 4.2 Decision Making and Branching\n",
    "See Kinder & Nelson ch. 3.4; Hill ch. 2.5.\n",
    "\n",
    "The other control structure essential to any programming language is the conditional statement, which allows decisions to be made based on the values of variables. Conditional statements are usually referred to as `if` statements.\n",
    "\n",
    "### 4.2.1 The `if` statement\n",
    "* Program branching is controlled using conditional statements.\n",
    "* These are also known as `if` statements.\n",
    "* The basic structure is:\n",
    "\n",
    "    if ... elif ... else\n",
    "    \n",
    "i.e.:\n",
    "\n",
    "    if *expression_is_true*:\n",
    "        {do this}\n",
    "    elif *other_expression_is_true*: \n",
    "        {do that}\n",
    "    else:\n",
    "        {do the other}\n",
    "        \n",
    "* Note the use of indentation again to control which lines are executed.\n",
    "* Example:"
   ]
  },
  {
   "cell_type": "code",
   "execution_count": 57,
   "metadata": {},
   "outputs": [
    {
     "name": "stdout",
     "output_type": "stream",
     "text": [
      "0 is less than 3\n",
      "1 is less than 3\n",
      "2 is less than 3\n",
      "3 is in the middle\n",
      "4 is in the middle\n",
      "5 is in the middle\n",
      "6 is in the middle\n",
      "7 is greater than 6\n",
      "8 is greater than 6\n",
      "9 is greater than 6\n"
     ]
    }
   ],
   "source": [
    "for i in range(10):\n",
    "    if (i < 3):\n",
    "        print(i,\"is less than 3\")\n",
    "    elif (i > 6):\n",
    "        print(i,\"is greater than 6\")\n",
    "    else:\n",
    "        print(i,\"is in the middle\")"
   ]
  },
  {
   "cell_type": "markdown",
   "metadata": {},
   "source": [
    "* Complex `if` statements may be built up using the following operators\n",
    "\n",
    "<img src=\"figures/ifoperator.png\" width = 300 />"
   ]
  },
  {
   "cell_type": "markdown",
   "metadata": {},
   "source": [
    "* Examples:\n",
    "  * `if (j==3) or (j==5):      `  True if j = 3 or 5 (note double == signs)\n",
    "  * `if j>3 and j<6:            `  True if j > 3 but less than 6\n",
    "  * `if j != 3:                `  True if j not equal to 3\n",
    "  * `if ((j>3)and(j!=6)) or (j==1):` True if j is greater than 3 and not equal to 6, OR if j equals 1"
   ]
  },
  {
   "cell_type": "markdown",
   "metadata": {},
   "source": [
    "### 4.2.2 Equality tests on floats\n",
    "* Consider the following:"
   ]
  },
  {
   "cell_type": "code",
   "execution_count": 61,
   "metadata": {},
   "outputs": [
    {
     "name": "stdout",
     "output_type": "stream",
     "text": [
      "Enter the square of 0.1: 0.01\n",
      "0.01 is not the square of 0.1\n"
     ]
    }
   ],
   "source": [
    "MyInput = input('Enter the square of 0.1: ')\n",
    "MyNumber = float(MyInput)\n",
    "\n",
    "if MyNumber == 0.1*0.1:\n",
    "    print(\"You were correct\")\n",
    "else:\n",
    "    print(MyNumber,\"is not the square of 0.1\")"
   ]
  },
  {
   "cell_type": "markdown",
   "metadata": {},
   "source": [
    "* You might think that if you enter 0.01 at the prompt then the `if` statement would be true.\n",
    "* However, it depends on the version of Python and the system precision.\n",
    "* On my system, 0.1\\*0.1 = 0.010000000000000002; hence the test fails.\n",
    "* So, it is best to **always avoid equality tests on floating point numbers**; instead use something like this:"
   ]
  },
  {
   "cell_type": "code",
   "execution_count": 62,
   "metadata": {},
   "outputs": [
    {
     "name": "stdout",
     "output_type": "stream",
     "text": [
      "Enter the square of 0.1: 0.01\n",
      "You were correct\n"
     ]
    }
   ],
   "source": [
    "import sys\n",
    "MyInput = input('Enter the square of 0.1: ')\n",
    "MyNumber = float(MyInput)\n",
    "\n",
    "if abs(MyNumber - 0.1*0.1) < sys.float_info.epsilon:\n",
    "    print(\"You were correct\")\n",
    "else:\n",
    "    print(MyNumber,\"is not the square of 0.1\")"
   ]
  },
  {
   "cell_type": "markdown",
   "metadata": {},
   "source": [
    "* The function `abs()` takes the absolute value (without sign) of a number.\n",
    "* sys.float_info.epsilon is the smallest fractional difference between two floats that can be distinguished.  It is usually around $10^{-15}$ depending on your computer.\n",
    "* Instead of `sys.float_info.epsilon` you can use a larger *tolerance* of your own, depending on your application."
   ]
  },
  {
   "cell_type": "markdown",
   "metadata": {},
   "source": [
    "# 5 Functions\n",
    "See Kinder & Nelson ch. 6.1; Hill ch. 2.7.\n",
    "\n",
    "* Functions provide a useful way of reducing the amount of code you need to create, by allowing re-use of certain key parts.\n",
    "* Functions should always be defined at the top of your script, **before** the main part of the program.  This way you can keep them separate and simplify the overall structure of your program.\n",
    "\n",
    "## 5.1 Basic Functions\n",
    "\n",
    "* Use **functions** to simplify code structure and also to maximise reuse of code.\n",
    "* Example:"
   ]
  },
  {
   "cell_type": "code",
   "execution_count": 63,
   "metadata": {},
   "outputs": [
    {
     "name": "stdout",
     "output_type": "stream",
     "text": [
      "The volume is 20383.100247999995\n",
      "Help on function volume in module __main__:\n",
      "\n",
      "volume(height, width, length)\n",
      "    This is called a function definition.  You should place it before the \n",
      "    main program. This block of text is intended to describe the \n",
      "    operation of the function, and will be accessed using the \n",
      "    'help(volume)' command.\n",
      "\n"
     ]
    }
   ],
   "source": [
    "def volume (height, width, length ):\n",
    "    \"\"\"\n",
    "    This is called a function definition.  You should place it before the \n",
    "    main program. This block of text is intended to describe the \n",
    "    operation of the function, and will be accessed using the \n",
    "    'help(volume)' command.\n",
    "    \"\"\"      \n",
    "    return height*width*length\n",
    "\n",
    "#\n",
    "# Here is the main program\n",
    "#\n",
    "dim1 = 23.5\n",
    "dim2 = 789.232\n",
    "dim3 = 1.099\n",
    "print(\"The volume is\",volume(dim1,dim2,dim3))\n",
    "#\n",
    "# Print the 'help' text...\n",
    "#\n",
    "help(volume)"
   ]
  },
  {
   "cell_type": "markdown",
   "metadata": {},
   "source": [
    "* Note the following features of the function definition:\n",
    "  * Function declaration using the `def` command.  Give your functions memorable names so it is obvious what they do.\n",
    "  * Argument list: within the function, the arguments have names that are local to the function **i.e. they are not known outside the function**.  This can be both useful and confusing.  It is useful because it means you can re-use variable names within more than one function without them interfering with each other, but it is also confusing for much the same reason.\n",
    "  * However, variables from the main program **are** available within the function, which can be very confusing.  Therefore it is best practice to pass in **all** the required variables through the argument list, and avoid re-use of variables names.\n",
    "  * The *body* of the function is indicated by indentation, as with loops and conditional statements.\n",
    "  * The `return` statement is used to return the **result** of performing the function.  In the present case that would be the *volume*."
   ]
  },
  {
   "cell_type": "markdown",
   "metadata": {},
   "source": [
    "## 5.2 Function `return` values\n",
    "* Generally speaking, every function should return a value through the `return` statement.\n",
    "* Sometimes you want to return several values e.g. the components of a vector.  This is readily achieved, as you can pass back any object, including `tuples` and `lists`.\n",
    "* If you don’t want the function to return anything, Python will return an object called `None`.\n",
    "* Consider the following examples:"
   ]
  },
  {
   "cell_type": "code",
   "execution_count": 64,
   "metadata": {},
   "outputs": [
    {
     "name": "stdout",
     "output_type": "stream",
     "text": [
      "7.08\n",
      "2000.0\n",
      "14.84\n"
     ]
    }
   ],
   "source": [
    "def printdoublex(x):\n",
    "    \"\"\"\n",
    "    This rather un-intelligent function prints 2 times its argument\n",
    "    and returns nothing.\n",
    "    \"\"\"\n",
    "    print(2*x)\n",
    "#\n",
    "# Main program\n",
    "#\n",
    "height = 3.54\n",
    "width = 7.42\n",
    "length = 1.0e3\n",
    "printdoublex(height)\n",
    "printdoublex(length)\n",
    "printdoublex(width)"
   ]
  },
  {
   "cell_type": "code",
   "execution_count": 65,
   "metadata": {},
   "outputs": [
    {
     "name": "stdout",
     "output_type": "stream",
     "text": [
      "The vector sum of (0, 0, 0) and (1, 2, 3) is: [1, 2, 3]\n"
     ]
    }
   ],
   "source": [
    "def vector_add (vector1, vector2):\n",
    "    \"\"\"\n",
    "    This function performs vector addition. The arguments, vector1 and \n",
    "    vector2, should be list objects of length 3, and the value returned \n",
    "    will be a similar list object of the same length.\n",
    "    \"\"\"\n",
    "    vector3 = [0.0] * 3\n",
    "    for i in range(3):\n",
    "        vector3[i] = vector1[i] + vector2[i]\n",
    "        \n",
    "    return vector3\n",
    "#\n",
    "# Main program\n",
    "#\n",
    "a = (0, 0, 0)\n",
    "b = (1, 2, 3)\n",
    "c = vector_add (a, b)\n",
    "print (\"The vector sum of\",a,\"and\",b,\"is:\",c)\n"
   ]
  },
  {
   "cell_type": "markdown",
   "metadata": {},
   "source": [
    "* Note that the inputs in this case were `tuples` while the output was a `list`.\n",
    "* The code also works if the arguments are `lists`.\n",
    "* Note the need to initialise `vector3` before assigning values to it."
   ]
  },
  {
   "cell_type": "code",
   "execution_count": 66,
   "metadata": {},
   "outputs": [
    {
     "name": "stdout",
     "output_type": "stream",
     "text": [
      "The vector sum of (0, 0, 0, 0) and (1, 2, 3, 4) is: [1, 2, 3, 4]\n",
      "Error: input vectors have different lengths\n",
      "The vector sum of (1, 2, 3, 4) and (5, 6, 7) is: None\n"
     ]
    }
   ],
   "source": [
    "def vector_add2 (vector1, vector2):\n",
    "    \"\"\"\n",
    "    This function performs vector addition. The arguments, vector1 and \n",
    "    vector2, should be list objects of the same length, and the value \n",
    "    returned will be a similar list object of the same length.\n",
    "    \"\"\"\n",
    "    n = len(vector1)\n",
    "    \n",
    "    if n != len(vector2):\n",
    "        print (\"Error: input vectors have different lengths\")\n",
    "        return\n",
    "    \n",
    "    vector3 = [0.0] * n\n",
    "    for i in range(n):\n",
    "        vector3[i] = vector1[i] + vector2[i]\n",
    "        \n",
    "    return vector3\n",
    "#\n",
    "# Main program\n",
    "#\n",
    "a = (0, 0, 0, 0)\n",
    "b = (1, 2, 3, 4)\n",
    "c = (5, 6, 7)\n",
    "print (\"The vector sum of\",a,\"and\",b,\"is:\",vector_add2(a,b))\n",
    "print (\"The vector sum of\",b,\"and\",c,\"is:\",vector_add2(b,c))"
   ]
  },
  {
   "cell_type": "markdown",
   "metadata": {},
   "source": [
    "## 5.3 key-value pairs in function argument lists\n",
    "* The arguments to a function must be specified in one of two ways:\n",
    "  1. in the same order as the function definition\n",
    "  2. in a different order but paired with a keyword\n",
    "* The keyword is just the name of the argument in the function definition.\n",
    "* This example also demonstrates the use of *default* argument values:"
   ]
  },
  {
   "cell_type": "code",
   "execution_count": 67,
   "metadata": {},
   "outputs": [
    {
     "name": "stdout",
     "output_type": "stream",
     "text": [
      "5.0\n",
      "13.0\n",
      "4.242640687119285\n"
     ]
    }
   ],
   "source": [
    "def pythagoras (a=3.0, b=4.0):\n",
    "    \"\"\"\n",
    "    Demonstration of the use of key-value pairs in function argument lists.\n",
    "    This function also has default values set, so that some arguments may be \n",
    "    omitted.\n",
    "    \"\"\"\n",
    "    return math.sqrt(a*a + b*b)\n",
    "#\n",
    "# Main program\n",
    "#\n",
    "print (pythagoras())\n",
    "print (pythagoras(b=5.0, a=12.0))\n",
    "print (pythagoras(b=3.0))"
   ]
  },
  {
   "cell_type": "markdown",
   "metadata": {},
   "source": [
    "# 6 More Advanced Python\n",
    "In this section we will cover:\n",
    "* Arrays and the NumPy module\n",
    "* Vectorisation\n",
    "* Writing to and from files\n",
    "* Graph plotting\n",
    "\n",
    "## 6.1 Arrays and the NumPy module\n",
    "See Kinder & Nelson ch. 2.2 & 3.2; Hill ch. 2.4, 3.1.2 & 6.1.\n",
    "### 6.1.1 Arrays using `list` objects\n",
    "* Often, in writing programs with Physics applications in mind, the idea of an **array** is useful.\n",
    "* An **array** is a list of numbers that can be referred to by an *index*.\n",
    "* The `list` object provides one way of creating an array.\n",
    "* Arrays can be used to store experimental data points for analysis, for storing values of function evaluated at a set of points, or for a range of other things.\n",
    "* Arrays are generally very useful.\n",
    "* For example, the following program lists a set of experimental data points:"
   ]
  },
  {
   "cell_type": "code",
   "execution_count": 68,
   "metadata": {},
   "outputs": [
    {
     "name": "stdout",
     "output_type": "stream",
     "text": [
      "Element number 3 =  67.33\n",
      "\n",
      "All the elements:\n",
      "\n",
      "Element 0   3.10\n",
      "Element 1  12.20\n",
      "Element 2  74.40\n",
      "Element 3  67.33\n",
      "Element 4 343.20\n",
      "\n",
      "The average data value is 100.05\n"
     ]
    }
   ],
   "source": [
    "#\n",
    "# Arrays : single dimension\n",
    "#\n",
    "# A five element list array will have indices from 0 to 4\n",
    "#\n",
    "data = [0.0] * 5\n",
    "\n",
    "data[0] = 3.1\n",
    "data[1] = 12.2\n",
    "data[2] = 74.4\n",
    "data[3] = 67.33\n",
    "data[4] = 343.2\n",
    "\n",
    "print(\"Element number 3 = \",data[3])\n",
    "\n",
    "sum = 0.0\n",
    "print(\"\\nAll the elements:\\n\")\n",
    "for i in range(5):\n",
    "    print(\"Element %d %6.2f\" % (i,data[i]))\n",
    "    sum += data[i]\n",
    "    \n",
    "print('\\nThe average data value is %6.2f' % (sum/5))"
   ]
  },
  {
   "cell_type": "markdown",
   "metadata": {},
   "source": [
    "* What happens if we try to use array element `data[5]` which is not defined?\n",
    "\n",
    "### 6.1.2 Multi-dimensional arrays using lists\n",
    "* Multi-dimensional arrays are possible, though rather cumbersome to set up.\n",
    "* Here is an example using two dimensions:"
   ]
  },
  {
   "cell_type": "code",
   "execution_count": 69,
   "metadata": {},
   "outputs": [
    {
     "name": "stdout",
     "output_type": "stream",
     "text": [
      "Array element 3,1 is 3\n",
      "Array row 3 is [0, 3]\n",
      "The whole array is [[0, 0], [0, 1], [0, 2], [0, 3], [0, 4]]\n"
     ]
    }
   ],
   "source": [
    "#\n",
    "# Arrays : multiple dimension\n",
    "#\n",
    "# Declare an array of zeros with 5 rows and 2 columns.\n",
    "# Start with a null list and 'append' each row:\n",
    "#\n",
    "myarray = []\n",
    "for i in range(5):\n",
    "    myarray.append([0.0]*2)\n",
    "#\n",
    "# assign new values to all array elements\n",
    "#\n",
    "for j in range(2):\n",
    "    for i in range(5):\n",
    "        myarray[i][j] = i*j\n",
    "\n",
    "print(\"Array element 3,1 is\",myarray[3][1])\n",
    "print(\"Array row 3 is\",myarray[3])\n",
    "print(\"The whole array is\",myarray)"
   ]
  },
  {
   "cell_type": "markdown",
   "metadata": {},
   "source": [
    "### 6.1.3 Better arrays, using NumPy\n",
    "* NumPy is a module with **lots** of useful functions for scientific work, including:\n",
    " 1. Array handling\n",
    " 2. File reading / writing\n",
    " 3. Faster mathematical functions (than the built-in functions)\n",
    " 4. Statistics\n",
    " 5. Linear algebra\n",
    "* We will use it mainly for the first and third applications in the list i.e. as a convenient way of creating arrays, and for it's range of fast mathematical functions.\n",
    "* Apart from ease of creation, NumPy arrays have two other big advantages: they are **fast** and they are **vectorisable**.  The consequences of this will become clear later on.\n",
    "\n",
    "### 6.1.4 Creating arrays with NumPy\n",
    "* NumPy arrays can be regarded as a multidimensional table of values indexed by a tuple of integers.\n",
    "* All elements in a NumPy array must be of the same type (unlike Python lists).\n",
    "* This, however, is entirely appropriate for scientific work.\n",
    "* A NumPy array is physically stored as a contiguous block of memory, which makes it very efficient for passing between functions and for performing general algebraic manipulations on it.\n",
    "* It is generally a good idea to import NumPy as `np` (this is the common approach in the recommended text books):"
   ]
  },
  {
   "cell_type": "code",
   "execution_count": 70,
   "metadata": {},
   "outputs": [],
   "source": [
    "import numpy as np"
   ]
  },
  {
   "cell_type": "markdown",
   "metadata": {},
   "source": [
    "* NumPy arrays can be initialised with zeros or ones:"
   ]
  },
  {
   "cell_type": "code",
   "execution_count": 71,
   "metadata": {},
   "outputs": [
    {
     "name": "stdout",
     "output_type": "stream",
     "text": [
      "[1. 1. 1. 1.]\n",
      "[[0. 0. 0.]\n",
      " [0. 0. 0.]\n",
      " [0. 0. 0.]]\n"
     ]
    }
   ],
   "source": [
    "a = np.ones(4)\n",
    "print(a)\n",
    "b = np.zeros( (3,3) ) # Note use of tuple for index list\n",
    "print(b)"
   ]
  },
  {
   "cell_type": "markdown",
   "metadata": {},
   "source": [
    "* NumPy arrays can be initialised as a unit matrix:"
   ]
  },
  {
   "cell_type": "code",
   "execution_count": 72,
   "metadata": {},
   "outputs": [
    {
     "name": "stdout",
     "output_type": "stream",
     "text": [
      "[[1. 0. 0. 0.]\n",
      " [0. 1. 0. 0.]\n",
      " [0. 0. 1. 0.]\n",
      " [0. 0. 0. 1.]]\n"
     ]
    }
   ],
   "source": [
    "c = np.eye(4)\n",
    "print(c)"
   ]
  },
  {
   "cell_type": "markdown",
   "metadata": {},
   "source": [
    "* A more general form of initialisation is as follows:"
   ]
  },
  {
   "cell_type": "code",
   "execution_count": 73,
   "metadata": {},
   "outputs": [
    {
     "name": "stdout",
     "output_type": "stream",
     "text": [
      "[2.  2.4 5.6]\n",
      "[[2. ]\n",
      " [2.4]\n",
      " [5.6]]\n"
     ]
    }
   ],
   "source": [
    "row_vector = np.array( [2.0, 2.4, 5.6])\n",
    "column_vector = np.array( [[2.0], [2.4], [5.6]] )\n",
    "print(row_vector)\n",
    "print(column_vector)"
   ]
  },
  {
   "cell_type": "code",
   "execution_count": 74,
   "metadata": {},
   "outputs": [
    {
     "name": "stdout",
     "output_type": "stream",
     "text": [
      "[[1.  1.4 4.3]\n",
      " [3.2 4.1 2.3]]\n"
     ]
    }
   ],
   "source": [
    "matrix = np.array( [ [1.0, 1.4, 4.3], [3.2, 4.1, 2.3] ] )\n",
    "print(matrix)"
   ]
  },
  {
   "cell_type": "markdown",
   "metadata": {},
   "source": [
    "* To create an array of equally spaced values, e.g. for graph plotting, use the `np.arange` and `np.linspace` functions.\n",
    "* For `np.arange(<start>, end, <increment>)`\n",
    "  * start and increment are optional\n",
    "  * the array of values will end *before* the end point\n",
    "  * `np.arange()` is like a more flexible form of the built-in `range()` function"
   ]
  },
  {
   "cell_type": "code",
   "execution_count": 75,
   "metadata": {},
   "outputs": [
    {
     "name": "stdout",
     "output_type": "stream",
     "text": [
      "[0 1 2 3 4 5 6 7 8 9]\n"
     ]
    }
   ],
   "source": [
    "xvals = np.arange(10) # Generates integers from 0 to < 10\n",
    "print(xvals)"
   ]
  },
  {
   "cell_type": "code",
   "execution_count": 76,
   "metadata": {},
   "outputs": [
    {
     "name": "stdout",
     "output_type": "stream",
     "text": [
      "[2 3 4 5 6 7 8 9]\n"
     ]
    }
   ],
   "source": [
    "xvals = np.arange(2,10) # Generates integers from 2 to < 10\n",
    "print(xvals)"
   ]
  },
  {
   "cell_type": "code",
   "execution_count": 77,
   "metadata": {},
   "outputs": [
    {
     "name": "stdout",
     "output_type": "stream",
     "text": [
      "[2 4 6 8]\n"
     ]
    }
   ],
   "source": [
    "xvals = np.arange(2,10,2) # Generates even integers from 2 to < 10\n",
    "print(xvals)"
   ]
  },
  {
   "cell_type": "code",
   "execution_count": 78,
   "metadata": {},
   "outputs": [
    {
     "name": "stdout",
     "output_type": "stream",
     "text": [
      "i: 0 xvals[0]: 1.00\n",
      "i: 1 xvals[1]: 1.50\n",
      "i: 2 xvals[2]: 2.00\n",
      "i: 3 xvals[3]: 2.50\n",
      "i: 4 xvals[4]: 3.00\n",
      "i: 5 xvals[5]: 3.50\n",
      "i: 6 xvals[6]: 4.00\n",
      "i: 7 xvals[7]: 4.50\n"
     ]
    }
   ],
   "source": [
    "xvals = np.arange(1.0,5.0,0.5) # Generates floats every 0.5 from 1.0 to 4.5\n",
    "for i in range(len(xvals)):  # len gives length of array xvals\n",
    "    print(\"i: %d xvals[%d]: %4.2f\" % (i,i,xvals[i]))"
   ]
  },
  {
   "cell_type": "markdown",
   "metadata": {},
   "source": [
    "* For `np.linspace(<start>, end, <number_steps>)`\n",
    "  * the array of values will end *exactly* at the end point\n",
    "  * the array will have exactly number_steps entries\n",
    "  * This is very useful for graph plotting.\n",
    "  * For example:"
   ]
  },
  {
   "cell_type": "code",
   "execution_count": 79,
   "metadata": {},
   "outputs": [
    {
     "name": "stdout",
     "output_type": "stream",
     "text": [
      "i: 0 xvals[0]: 1.00\n",
      "i: 1 xvals[1]: 2.33\n",
      "i: 2 xvals[2]: 3.67\n",
      "i: 3 xvals[3]: 5.00\n"
     ]
    }
   ],
   "source": [
    "xvals = np.linspace(1.0,5.0,4)\n",
    "for i in range(len(xvals)):  # len gives length of array xvals\n",
    "    print(\"i: %d xvals[%d]: %4.2f\" % (i,i,xvals[i]))"
   ]
  },
  {
   "cell_type": "markdown",
   "metadata": {},
   "source": [
    "### 6.1.5 Vectorization: a really useful (and potentially confusing) feature of NumPy arrays\n",
    "* Let's say we have a 1-dimensional array of x values, and we want to compute a function f(x) for each of them.  We could:\n",
    "  1. Write a loop and evaluate each value of f(x) in turn (slow)\n",
    "  2. Take advantage of the NumPy vectorisation to achieve it in one line (fast) "
   ]
  },
  {
   "cell_type": "code",
   "execution_count": 80,
   "metadata": {},
   "outputs": [
    {
     "name": "stdout",
     "output_type": "stream",
     "text": [
      "0.0 1.0\n",
      "0.1 1.11\n",
      "0.2 1.24\n",
      "0.30000000000000004 1.3900000000000001\n",
      "0.4 1.56\n",
      "0.5 1.75\n",
      "0.6000000000000001 1.9600000000000002\n",
      "0.7000000000000001 2.1900000000000004\n",
      "0.8 2.4400000000000004\n",
      "0.9 2.71\n",
      "1.0 3.0\n"
     ]
    }
   ],
   "source": [
    "import numpy as np\n",
    "x = np.linspace(0,1,11)\n",
    "y = x**2 + x + 1  # This line is an example of vectorisation\n",
    "                  # y is created as a numpy array and all its\n",
    "                  # entries are assigned in one go.\n",
    "\n",
    "for i in range(len(x)):\n",
    "    print(x[i],y[i])"
   ]
  },
  {
   "cell_type": "markdown",
   "metadata": {},
   "source": [
    "* Vectorisation **only** works with NumPy arrays, not with Python lists.\n",
    "* Vectorisation **only** works with the NumPy mathematical functions, not the `math` ones i.e. this works:"
   ]
  },
  {
   "cell_type": "code",
   "execution_count": 81,
   "metadata": {},
   "outputs": [
    {
     "name": "stdout",
     "output_type": "stream",
     "text": [
      "0.0000 0.0000\n",
      "0.1571 0.1564\n",
      "0.3142 0.3090\n",
      "0.4712 0.4540\n",
      "0.6283 0.5878\n",
      "0.7854 0.7071\n",
      "0.9425 0.8090\n",
      "1.0996 0.8910\n",
      "1.2566 0.9511\n",
      "1.4137 0.9877\n",
      "1.5708 1.0000\n"
     ]
    }
   ],
   "source": [
    "x = np.linspace(0,np.pi/2,11)\n",
    "y = np.sin(x)  # Must be the NumPy sin() function\n",
    "\n",
    "for i in range(len(x)):\n",
    "    print(\"%6.4f %6.4f\" % (x[i],y[i]))"
   ]
  },
  {
   "cell_type": "markdown",
   "metadata": {},
   "source": [
    "* But, **this does not work:**"
   ]
  },
  {
   "cell_type": "code",
   "execution_count": 82,
   "metadata": {},
   "outputs": [
    {
     "ename": "TypeError",
     "evalue": "only size-1 arrays can be converted to Python scalars",
     "output_type": "error",
     "traceback": [
      "\u001b[0;31m---------------------------------------------------------------------------\u001b[0m",
      "\u001b[0;31mTypeError\u001b[0m                                 Traceback (most recent call last)",
      "\u001b[0;32m<ipython-input-82-535142dcb689>\u001b[0m in \u001b[0;36m<module>\u001b[0;34m\u001b[0m\n\u001b[1;32m      1\u001b[0m \u001b[0mx\u001b[0m \u001b[0;34m=\u001b[0m \u001b[0mnp\u001b[0m\u001b[0;34m.\u001b[0m\u001b[0mlinspace\u001b[0m\u001b[0;34m(\u001b[0m\u001b[0;36m0\u001b[0m\u001b[0;34m,\u001b[0m\u001b[0mnp\u001b[0m\u001b[0;34m.\u001b[0m\u001b[0mpi\u001b[0m\u001b[0;34m/\u001b[0m\u001b[0;36m2\u001b[0m\u001b[0;34m,\u001b[0m\u001b[0;36m11\u001b[0m\u001b[0;34m)\u001b[0m\u001b[0;34m\u001b[0m\u001b[0;34m\u001b[0m\u001b[0m\n\u001b[0;32m----> 2\u001b[0;31m \u001b[0my\u001b[0m \u001b[0;34m=\u001b[0m \u001b[0mmath\u001b[0m\u001b[0;34m.\u001b[0m\u001b[0msin\u001b[0m\u001b[0;34m(\u001b[0m\u001b[0mx\u001b[0m\u001b[0;34m)\u001b[0m  \u001b[0;31m# Must be the NumPy sin() function\u001b[0m\u001b[0;34m\u001b[0m\u001b[0;34m\u001b[0m\u001b[0m\n\u001b[0m\u001b[1;32m      3\u001b[0m \u001b[0;34m\u001b[0m\u001b[0m\n\u001b[1;32m      4\u001b[0m \u001b[0;32mfor\u001b[0m \u001b[0mi\u001b[0m \u001b[0;32min\u001b[0m \u001b[0mrange\u001b[0m\u001b[0;34m(\u001b[0m\u001b[0mlen\u001b[0m\u001b[0;34m(\u001b[0m\u001b[0mx\u001b[0m\u001b[0;34m)\u001b[0m\u001b[0;34m)\u001b[0m\u001b[0;34m:\u001b[0m\u001b[0;34m\u001b[0m\u001b[0;34m\u001b[0m\u001b[0m\n\u001b[1;32m      5\u001b[0m     \u001b[0mprint\u001b[0m\u001b[0;34m(\u001b[0m\u001b[0;34m\"%6.4f %6.4f\"\u001b[0m \u001b[0;34m%\u001b[0m \u001b[0;34m(\u001b[0m\u001b[0mx\u001b[0m\u001b[0;34m[\u001b[0m\u001b[0mi\u001b[0m\u001b[0;34m]\u001b[0m\u001b[0;34m,\u001b[0m\u001b[0my\u001b[0m\u001b[0;34m[\u001b[0m\u001b[0mi\u001b[0m\u001b[0;34m]\u001b[0m\u001b[0;34m)\u001b[0m\u001b[0;34m)\u001b[0m\u001b[0;34m\u001b[0m\u001b[0;34m\u001b[0m\u001b[0m\n",
      "\u001b[0;31mTypeError\u001b[0m: only size-1 arrays can be converted to Python scalars"
     ]
    }
   ],
   "source": [
    "x = np.linspace(0,np.pi/2,11)\n",
    "y = math.sin(x)  # Must be the NumPy sin() function\n",
    "\n",
    "for i in range(len(x)):\n",
    "    print(\"%6.4f %6.4f\" % (x[i],y[i]))"
   ]
  },
  {
   "cell_type": "markdown",
   "metadata": {},
   "source": [
    "## 6.2 Reading and writing to files\n",
    "See Kinder & Nelson ch. 4.1 & 4.2; Hill ch. 2.6.\n",
    "\n",
    "The operation of reading or writing to a file consists of 3 stages:\n",
    "\n",
    "1. Open the file: this requires specifying the filename and associating this with a special file-type variable;\n",
    "2. Perform the reads or writes, using the appropriate file-type variable to specify the location;\n",
    "3. Close the file: this tells the operating system we are done, and ensures any final writes are completed.\n",
    "\n",
    "Files can be either text-based or raw binary.  While binary files are more compact, text files have the advantage that they can be read by both computers and humans and are, therefore, the recommended type to use.\n",
    "\n",
    "### 6.2.1 Opening and closing a file\n",
    "* To `open` a file i.e. prepare it for reading and writing, use the `open()` function.\n",
    "* To `close` the file again i.e. finish any reading and writing and leave the file ready for use in another application, use the `close()` method of the file object.\n",
    "* Different modes (reading, writing etc) are available as follows. The options 'r', 'w' and 'a' will be the most useful:\n",
    "\n",
    "<img src=\"figures/textio.png\" width=500 />\n",
    "\n",
    "* A further set of options, 'rb', 'wb', 'ab' and 'rb+' are available for reading and writing binary files.  These are best avoided as debugging binary read/write operations can be very tricky."
   ]
  },
  {
   "cell_type": "code",
   "execution_count": 83,
   "metadata": {},
   "outputs": [],
   "source": [
    "MyFileObject = open('anyfile.txt','w') # creates an empty file called `anyfile.txt' \n",
    "                                        # and prepares it for writing, 'w'.\n",
    "MyFileObject.close()  # closes the file again"
   ]
  },
  {
   "cell_type": "markdown",
   "metadata": {},
   "source": [
    "### 6.2.2 Writing to files\n",
    "* To write to a file, use a modified version of the `print()` function.\n",
    "* Note that `print()` has two optional arguments, one to specify the string separator, and the other the file object.\n",
    "* The following code generates a file with two columns separated by the string `', '`.\n",
    "* To separate the columns with tabs, use the separation string `'\\t'`."
   ]
  },
  {
   "cell_type": "code",
   "execution_count": 84,
   "metadata": {},
   "outputs": [],
   "source": [
    "MyFileObject = open('anyfile.txt','w')\n",
    "\n",
    "x = np.linspace(0,np.pi/2,101)\n",
    "y = np.sin(x)\n",
    "\n",
    "for i in range(len(x)):\n",
    "    print(\"%6.4f\" % x[i], \"%6.4f\" % y[i], sep=', ', file=MyFileObject)\n",
    "\n",
    "MyFileObject.close()  # closes the file again"
   ]
  },
  {
   "cell_type": "markdown",
   "metadata": {},
   "source": [
    "* Alternatively, could use:\n",
    "        print(\"%6.4f, %6.4f\" % (x[i],y[i]), file=MyFileObject)"
   ]
  },
  {
   "cell_type": "markdown",
   "metadata": {},
   "source": [
    "### 6.2.3 Reading data from a file\n",
    "* For a given file object, the `read(n)` method reads n bytes. This is not especially useful for text files, where a given number could be represented by a varying number of bytes.  If n is omitted, the entire file is read in a single operation.\n",
    "* The `readline()` method is more useful for reading text files."
   ]
  },
  {
   "cell_type": "code",
   "execution_count": 85,
   "metadata": {},
   "outputs": [
    {
     "name": "stdout",
     "output_type": "stream",
     "text": [
      "0 0.0000, 0.0000\n",
      "1 0.0157, 0.0157\n",
      "2 0.0314, 0.0314\n",
      "3 0.0471, 0.0471\n",
      "4 0.0628, 0.0628\n"
     ]
    }
   ],
   "source": [
    "MyFileObject = open('anyfile.txt','r')\n",
    "\n",
    "for i in range(5):\n",
    "    print(i, MyFileObject.readline(), end='')\n",
    "\n",
    "MyFileObject.close()"
   ]
  },
  {
   "cell_type": "markdown",
   "metadata": {},
   "source": [
    "* Each use of `MyFileObject.readline()` reads one line from the file.\n",
    "* The `end=''` argument is needed to prevent double spacing of the output (it gets rid of an extra linefeed).\n",
    "* Alternatively, file objects are iterable, so `MyFileObject` can be used to control a loop, reading the file, one line at a time. "
   ]
  },
  {
   "cell_type": "code",
   "execution_count": 86,
   "metadata": {},
   "outputs": [
    {
     "name": "stdout",
     "output_type": "stream",
     "text": [
      "[0.0, 0.0157, 0.0314, 0.0471, 0.0628, 0.0785, 0.0941, 0.1097, 0.1253, 0.1409, 0.1564, 0.1719, 0.1874, 0.2028, 0.2181, 0.2334, 0.2487, 0.2639, 0.279, 0.294, 0.309, 0.3239, 0.3387, 0.3535, 0.3681, 0.3827, 0.3971, 0.4115, 0.4258, 0.4399, 0.454, 0.4679, 0.4818, 0.4955, 0.509, 0.5225, 0.5358, 0.549, 0.5621, 0.575, 0.5878, 0.6004, 0.6129, 0.6252, 0.6374, 0.6494, 0.6613, 0.673, 0.6845, 0.6959, 0.7071, 0.7181, 0.729, 0.7396, 0.7501, 0.7604, 0.7705, 0.7804, 0.7902, 0.7997, 0.809, 0.8181, 0.8271, 0.8358, 0.8443, 0.8526, 0.8607, 0.8686, 0.8763, 0.8838, 0.891, 0.898, 0.9048, 0.9114, 0.9178, 0.9239, 0.9298, 0.9354, 0.9409, 0.9461, 0.9511, 0.9558, 0.9603, 0.9646, 0.9686, 0.9724, 0.9759, 0.9792, 0.9823, 0.9851, 0.9877, 0.99, 0.9921, 0.994, 0.9956, 0.9969, 0.998, 0.9989, 0.9995, 0.9999, 1.0]\n"
     ]
    }
   ],
   "source": [
    "MyFileObject = open('anyfile.txt','r')\n",
    "\n",
    "xvals, yvals = [], [] # Create two lists to hold the data\n",
    "\n",
    "for line in MyFileObject:\n",
    "    fields = line.split(',')       # split each line at the commas\n",
    "    xvals.append(float(fields[0])) # append the new x value to the list\n",
    "    yvals.append(float(fields[1])) # append the new y value to the list\n",
    "    \n",
    "print(yvals)\n",
    "\n",
    "MyFileObject.close()"
   ]
  },
  {
   "cell_type": "markdown",
   "metadata": {},
   "source": [
    "### 6.2.4 NumPy functions for file input/output\n",
    "* You can also use the NumPy functions `np.loadtxt()` and `np.savetxt()` for reading and writing text files of data.\n",
    "* Information on these may be found in the recommended textbooks, and on the NumPy website: http://www.numpy.org."
   ]
  },
  {
   "cell_type": "markdown",
   "metadata": {},
   "source": [
    "## 6.3 Plotting graphs\n",
    "See Kinder & Nelson ch. 4.3; Hill ch. 7.\n",
    "\n",
    "### 6.3.1 Line plots using Matplotlib and pylab\n",
    "* Matplotlib is a sophisticated graphing module, with capabilities for producing publication quality graphs, for journal articles, books etc.\n",
    "* pylab is a simple plotting interface to Matplotlib.  We will focus on use of pylab, through the following examples.  Much more is possible; see textbooks and the Matplotlib website (http://www.matplotlib.org) for more information.\n",
    "* Here is a simple line plot:"
   ]
  },
  {
   "cell_type": "code",
   "execution_count": 87,
   "metadata": {},
   "outputs": [
    {
     "data": {
      "image/png": "[encoded data removed]",
      "text/plain": [
       "<Figure size 432x288 with 1 Axes>"
      ]
     },
     "metadata": {
      "needs_background": "light"
     },
     "output_type": "display_data"
    }
   ],
   "source": [
    "#\n",
    "# A plot of sin(x)/x\n",
    "#\n",
    "# following line needed to get graphs to appear in Jupyter worksheet\n",
    "#\n",
    "%matplotlib inline \n",
    "import pylab\n",
    "import numpy as np\n",
    "#\n",
    "# Generate the x and y values to plot\n",
    "#\n",
    "x = np.arange(-10, 10, 0.01)\n",
    "y = np.sin(x)/x\n",
    "\n",
    "pylab.plot(x, y, linewidth=1)\n",
    "pylab.text(-5.5, 0.8,\n",
    "     r\"$f(x) = \\sin(x)/x$\", horizontalalignment='center',\n",
    "     fontsize=20) # Note the use of a LaTeX label\n",
    "pylab.xlabel(\"x\")\n",
    "pylab.ylabel(\"f(x)\")\n",
    "pylab.show() # this command not always needed"
   ]
  },
  {
   "cell_type": "markdown",
   "metadata": {},
   "source": [
    "The following puts several lines together on one plot, using various plot styles:"
   ]
  },
  {
   "cell_type": "code",
   "execution_count": 88,
   "metadata": {},
   "outputs": [
    {
     "data": {
      "image/png": "[encoded data removed]",
      "text/plain": [
       "<Figure size 432x288 with 1 Axes>"
      ]
     },
     "metadata": {
      "needs_background": "light"
     },
     "output_type": "display_data"
    }
   ],
   "source": [
    "#\n",
    "# several graphs together on the same plot\n",
    "#\n",
    "%matplotlib inline \n",
    "import pylab\n",
    "import numpy as np\n",
    "#\n",
    "# Generate the x and y values to plot using Vectorisation\n",
    "#\n",
    "A = 8/(np.pi**2)\n",
    "x = np.arange(0, 1, 0.01)\n",
    "y1 = np.sin(np.pi*x)*A\n",
    "y3 = -np.sin(3*np.pi*x)/9*A\n",
    "y5 = np.sin(5*np.pi*x)/25*A\n",
    "y7 = -np.sin(7*np.pi*x)/49*A\n",
    "y9 = np.sin(9*np.pi*x)/81*A\n",
    "y = y1+y3+y5+y7+y9\n",
    "\n",
    "pylab.plot(x, y, linewidth=2, color='k', label='sum')\n",
    "pylab.plot(x, y1, linewidth=1, linestyle='--', label='y1')\n",
    "pylab.plot(x, y3, linewidth=1, marker='D', label='y3')\n",
    "pylab.plot(x, y5, linewidth=1)\n",
    "pylab.plot(x, y7, linewidth=1)\n",
    "pylab.plot(x, y9, linewidth=1)\n",
    "\n",
    "pylab.xlabel(\"x\")\n",
    "pylab.ylabel(\"f(x)\")\n",
    "pylab.legend()\n",
    "pylab.show() # this command not always needed"
   ]
  },
  {
   "cell_type": "markdown",
   "metadata": {},
   "source": [
    "### 6.3.2 3-dimensional plots\n",
    "* Various types of 3-d plots are possible, but you first need to import the Axes3D module from Matplotlib to create the appropriate set of axes:"
   ]
  },
  {
   "cell_type": "code",
   "execution_count": 89,
   "metadata": {},
   "outputs": [
    {
     "data": {
      "text/plain": [
       "[<mpl_toolkits.mplot3d.art3d.Line3D at 0x7f83b894ad10>]"
      ]
     },
     "execution_count": 89,
     "metadata": {},
     "output_type": "execute_result"
    },
    {
     "data": {
      "image/png": "[encoded data removed]",
      "text/plain": [
       "<Figure size 432x288 with 1 Axes>"
      ]
     },
     "metadata": {
      "needs_background": "light"
     },
     "output_type": "display_data"
    }
   ],
   "source": [
    "%matplotlib inline \n",
    "\n",
    "import numpy as np\n",
    "import matplotlib.pyplot as plt\n",
    "from mpl_toolkits.mplot3d import Axes3D\n",
    "#\n",
    "# Create a figure with 3D axes\n",
    "#\n",
    "MyFig = plt.figure()\n",
    "ax = Axes3D(MyFig)\n",
    "#\n",
    "# Generate a plot, using the plot method of the axes\n",
    "#\n",
    "theta = np.linspace(0, 5*np.pi, 501)\n",
    "ax.plot (np.cos(theta), np.sin(theta), theta)\n",
    "ax.plot (0.5*np.cos(2*theta), 0.5*np.sin(2*theta), theta)"
   ]
  },
  {
   "cell_type": "markdown",
   "metadata": {},
   "source": [
    "If you use Axes3D from within Spyder, the graph should appear in a separate window and you will be able to change the view by dragging with the mouse.\n",
    "### 6.3.3 Contour plots\n",
    "* First you need to create a 2-d mesh of points\n",
    "* The contour plot is then straightforward:"
   ]
  },
  {
   "cell_type": "code",
   "execution_count": 90,
   "metadata": {},
   "outputs": [
    {
     "data": {
      "image/png": "[encoded data removed]",
      "text/plain": [
       "<Figure size 432x288 with 1 Axes>"
      ]
     },
     "metadata": {
      "needs_background": "light"
     },
     "output_type": "display_data"
    }
   ],
   "source": [
    "%matplotlib inline \n",
    "#\n",
    "# Adapted from Kinder and Nelson, 2015\n",
    "#\n",
    "import numpy as np\n",
    "import matplotlib.pyplot as plt\n",
    "#\n",
    "# Create a grid of x and y values, \n",
    "# using the linspace and meshgrid functions\n",
    "#\n",
    "x = np.linspace(-3, 3, 51)\n",
    "y = np.linspace(0, 10, 31)\n",
    "X, Y = np.meshgrid(x, y)\n",
    "#\n",
    "# Use vectorisation to generate function values\n",
    "#\n",
    "MyFunc = np.cos(X) * np.sin(Y)\n",
    "#\n",
    "# Plot and label the contours\n",
    "#\n",
    "plt.figure()\n",
    "MyContours = plt.contour(X, Y, MyFunc, 10, linewidths=0.5, colors='r')\n",
    "plt.clabel(MyContours,fontsize=8)\n",
    "plt.show()"
   ]
  },
  {
   "cell_type": "markdown",
   "metadata": {},
   "source": [
    "* Sometimes it is more appropriate to view the data as an intensity plot.  This can be achieved as follows:"
   ]
  },
  {
   "cell_type": "code",
   "execution_count": 91,
   "metadata": {},
   "outputs": [
    {
     "data": {
      "text/plain": [
       "<matplotlib.image.AxesImage at 0x7f8398adf510>"
      ]
     },
     "execution_count": 91,
     "metadata": {},
     "output_type": "execute_result"
    },
    {
     "data": {
      "image/png": "[encoded data removed]",
      "text/plain": [
       "<Figure size 432x288 with 1 Axes>"
      ]
     },
     "metadata": {
      "needs_background": "light"
     },
     "output_type": "display_data"
    }
   ],
   "source": [
    "%matplotlib inline \n",
    "#\n",
    "# Adapted from Kinder and Nelson, 2015\n",
    "#\n",
    "import numpy as np\n",
    "import matplotlib.pyplot as plt\n",
    "from matplotlib import cm\n",
    "#\n",
    "# Create a grid of x and y values, \n",
    "# using the linspace and meshgrid functions\n",
    "#\n",
    "x = np.linspace(-3, 3, 51)\n",
    "y = np.linspace(0, 10, 31)\n",
    "X, Y = np.meshgrid(x, y)\n",
    "#\n",
    "# Use vectorisation to generate function values\n",
    "#\n",
    "MyFunc = np.cos(X) * np.sin(Y)\n",
    "#\n",
    "# Plot the function as an intensity map\n",
    "#\n",
    "plt.imshow(MyFunc, cmap=cm.coolwarm)"
   ]
  },
  {
   "cell_type": "markdown",
   "metadata": {},
   "source": [
    "### 6.3.4 Surface Plots\n",
    "* As previously, the Axes3D module is needed"
   ]
  },
  {
   "cell_type": "code",
   "execution_count": 92,
   "metadata": {},
   "outputs": [
    {
     "data": {
      "image/png": "[encoded data removed]",
      "text/plain": [
       "<Figure size 432x288 with 1 Axes>"
      ]
     },
     "metadata": {
      "needs_background": "light"
     },
     "output_type": "display_data"
    }
   ],
   "source": [
    "%matplotlib inline \n",
    "#\n",
    "# Adapted from Kinder and Nelson, 2015\n",
    "#\n",
    "import numpy as np\n",
    "import matplotlib.pyplot as plt\n",
    "from matplotlib import cm\n",
    "from mpl_toolkits.mplot3d import Axes3D\n",
    "#\n",
    "# Create a grid of x and y values, \n",
    "# using the linspace and meshgrid functions\n",
    "#\n",
    "points = np.linspace(-10, 10, 101)\n",
    "X, Y = np.meshgrid(points, points)\n",
    "Z = X**2 + Y**2\n",
    "#\n",
    "# create and display surface plot\n",
    "#\n",
    "ax = Axes3D(plt.figure())\n",
    "ax.plot_surface(X, Y, Z, rstride=5, cstride=5, cmap=cm.coolwarm, linewidth=0.1)\n",
    "#\n",
    "plt.show()"
   ]
  },
  {
   "cell_type": "markdown",
   "metadata": {},
   "source": [
    "# Appendix A (Optional section - read at your own risk) \n",
    "# Arduino programming from Python\n",
    "This section was last updated in May 2018 - some of the version numbers for pyFirmata and pyMata may be out of date.\n",
    "\n",
    "## A.1 Introduction\n",
    "If you have never heard of the Arduino system for interfacing computers to experiments and other \"real-world\" devices, then you probably should read no further.  However, you may have come across the Arduino as a hobbyist, or you may be planning a project (undergraduate or otherwise) that involves using an Arduino to control some piece of apparatus.  In that case, the following notes are intended to give a flavour of what is possible, and to point you in the right direction to get started.  There are many different approaches to using the Arduino from Python.  The following is just one possibility that satisfies the most basic requirements."
   ]
  },
  {
   "cell_type": "markdown",
   "metadata": {},
   "source": [
    "## A.2 The Arduino programming model\n",
    "The Arduino is a self-contained microcontroller board, that \"talks\" to a host computer via some sort of interface.  Typically, the interface will be a USB cable, but there are other possibilities including ethernet, Bluetooth and Wifi.  The Arduino consists of a very basic microprocessor, some memory and a number of input/output (I/O) pins, which are used to connect to the real world.  The Arduino can be used to send and receive signals via these pins.\n",
    "\n",
    "This is the typical appearance of an entry level Arduino UNO:\n",
    "<img src=\"figures/ArduinoUno.jpg\" />\n",
    "\n",
    "The normal mode of operation for the Arduino is to upload a program (known as a Sketch) to the device, and allow it to run in a loop in an autonomous fashion.  The Sketch is written in the C programming language, and is uploaded to the Arduino using the Arduino IDE.  Interaction with the Arduino will only be possible if the Sketch includes the provision to send and receive data over the interface; a separate program running on the computer is required to monitor the interface, either logging data or sending control signals as appropriate.  It is this separate control program which may be written in Python.  \n",
    "\n",
    "Unless you have some very specific requirements for your interface, it is simplest to use a pre-existing standalone Arduino Sketch, and focus your efforts on the Python control program.  We give some basic examples of this below."
   ]
  },
  {
   "cell_type": "markdown",
   "metadata": {},
   "source": [
    "## A.3 Preparing the Arduino board\n",
    "These instructions relate to the Arduino UNO board; other boards will follow a similar pattern.  \n",
    "\n",
    "First it is necessary to install the Arduino IDE, available from https://www.arduino.cc/en/Main/Software .  Once installed, the Arduino board should be connected to a USB port of the computer, and the Arduino IDE started.  From the IDE menu, you should select:\n",
    "* From `\"Tools --> Board...\"` choose the appropriate board type.\n",
    "* From `\"Tools --> Port...\"` choose the port your Arduino is connected to.  This will vary depending on the computer type, and will typically be of the form:\n",
    " * `\"/dev/cu.usbmodemxxx\"` for a Mac\n",
    " * `\"/dev/ttyACMxx\"` for Linux\n",
    " * `\"COMx\"` for a PC\n",
    "\n",
    "Finally, the standalone Sketch is required.  We will use the Firmata protocol for communicating with the Arduino; an appropriate Sketch for this is available within the IDE at `\"File --> Examples --> Firmata --> StandardFirmata\"`.  Load this Sketch, compile it using `\"Sketch --> Verify/Compile\"` and upload it to the Arduino using `\"Sketch --> Upload\"."
   ]
  },
  {
   "cell_type": "markdown",
   "metadata": {},
   "source": [
    "## A.4 pySerial and pyFirmata\n",
    "Communication between the host computer and the Arduino will be handled using the Firmata protocol.  This is available as a module, pyFirmata, which is available within Python.  pyFirmata is, in turn, dependent on a serial communications module, known as pySerial.  Neither of these modules are available within the standard Anaconda-based installation, so a little effort is required to install them.  \n",
    "\n",
    "In fact, pySerial is known to Anaconda, and a single command is sufficient to install it i.e.:\n",
    "* conda install pyserial\n",
    "\n",
    "at the command prompt.  Once pySerial is installed, verify that Python knows about it by typing the following command at the IPython prompt:"
   ]
  },
  {
   "cell_type": "code",
   "execution_count": 1,
   "metadata": {
    "collapsed": true
   },
   "outputs": [],
   "source": [
    "import serial"
   ]
  },
  {
   "cell_type": "markdown",
   "metadata": {},
   "source": [
    "There should be no error messages.  pyFirmata is available from https://pypi.python.org/pypi/pyFirmata/1.0.3 .  Download the package and follow the installation instructions.  Once pyFirmata is installed, verify that Python knows about it by typing the following command at the IPython prompt:"
   ]
  },
  {
   "cell_type": "code",
   "execution_count": 2,
   "metadata": {
    "collapsed": true
   },
   "outputs": [],
   "source": [
    "import pyfirmata"
   ]
  },
  {
   "cell_type": "markdown",
   "metadata": {},
   "source": [
    "If there are no error messages, your Python installation is ready to address the Arduino."
   ]
  },
  {
   "cell_type": "markdown",
   "metadata": {},
   "source": [
    "## A.5 Simple Arduino test\n",
    "At the start of each Python program addressing the Arduino, you will need to setup the port and board type as follows:"
   ]
  },
  {
   "cell_type": "code",
   "execution_count": 3,
   "metadata": {
    "collapsed": true
   },
   "outputs": [],
   "source": [
    "port = '/dev/cu.usbmodem1411'  # substitute your port name here\n",
    "board = pyfirmata.Arduino(port)  # this identifies the Arduino attached to your port\n",
    "pin = 13  # choose pin number 13"
   ]
  },
  {
   "cell_type": "markdown",
   "metadata": {},
   "source": [
    "The Arduino UNO has a test LED permanently attached to output pin 13 of the board.  The following lines can be used to toggle the LED on: "
   ]
  },
  {
   "cell_type": "code",
   "execution_count": 7,
   "metadata": {
    "collapsed": true
   },
   "outputs": [],
   "source": [
    "board.digital[pin].write(1)  # setting pin 13 to 'HIGH', LED is on"
   ]
  },
  {
   "cell_type": "markdown",
   "metadata": {},
   "source": [
    "and off:"
   ]
  },
  {
   "cell_type": "code",
   "execution_count": 9,
   "metadata": {
    "collapsed": true
   },
   "outputs": [],
   "source": [
    "board.digital[pin].write(0)  # setting pin 13 to 'LOW', LED is off"
   ]
  },
  {
   "cell_type": "markdown",
   "metadata": {},
   "source": [
    "The state of pin 13 may be read at any time using the command:"
   ]
  },
  {
   "cell_type": "code",
   "execution_count": 10,
   "metadata": {},
   "outputs": [
    {
     "data": {
      "text/plain": [
       "0"
      ]
     },
     "execution_count": 10,
     "metadata": {},
     "output_type": "execute_result"
    }
   ],
   "source": [
    "board.digital[pin].read()  # read the digital value of pin 13"
   ]
  },
  {
   "cell_type": "markdown",
   "metadata": {},
   "source": [
    "## A.6 A program to control an LED\n",
    "The following program uses pulse-width modulation (PWM) to control the intensity of an LED attached to one of the digital outputs of the Arduino.  To see the effect of this program you will need to connect an LED between pin 11 of the Arduino and Ground, via a small resistor (say 220$\\Omega$).  The program causes the LED to pulse smoothly five times."
   ]
  },
  {
   "cell_type": "code",
   "execution_count": 16,
   "metadata": {},
   "outputs": [
    {
     "name": "stdout",
     "output_type": "stream",
     "text": [
      "0.0 % done\n",
      "20.0 % done\n",
      "40.0 % done\n",
      "60.0 % done\n",
      "80.0 % done\n",
      "100.0 % done\n"
     ]
    }
   ],
   "source": [
    "from pyfirmata import Arduino, PWM\n",
    "from time import sleep\n",
    "from math import sin, pi\n",
    "\n",
    "port = '/dev/cu.usbmodem1411' # Change this for your particular installation\n",
    "board = Arduino(port)\n",
    "\n",
    "sleep(1)  # Allow time for the Arduino to initialise\n",
    "\n",
    "pin = 11\n",
    "board.digital[pin].mode = PWM  # Setup pin 11 to use PWM\n",
    "\n",
    "period = 50  # Sets the duration of each pulse\n",
    "number = 5  # Sets the number of pulses\n",
    "for i in range(0, number*period+1):\n",
    "    board.digital[pin].write(sin(i*pi/period)**2) # Sinusoidal intensity variation\n",
    "    sleep(0.05)\n",
    "    if int(i/period)*period == i:\n",
    "        print(i*100/(number*period),\"% done\") # Give progress statement\n",
    "\n",
    "board.digital[pin].write(0)  # Finally set output to zero\n",
    "board.exit()  # Tidy closure of Arduino"
   ]
  },
  {
   "cell_type": "markdown",
   "metadata": {},
   "source": [
    "## A.7 Logging data to file and screen\n",
    "This program illustrates reading a voltage from one of the analog input pins of the Arduino.  This might be, for example, the output from some sort of sensor.  "
   ]
  },
  {
   "cell_type": "code",
   "execution_count": 18,
   "metadata": {
    "scrolled": true
   },
   "outputs": [
    {
     "name": "stdout",
     "output_type": "stream",
     "text": [
      "Sample:  0 0.7107\n",
      "Sample:  1 0.6647\n",
      "Sample:  2 0.5904\n",
      "Sample:  3 0.4936\n",
      "Sample:  4 0.3812\n",
      "Sample:  5 0.2776\n",
      "Sample:  6 0.39\n",
      "Sample:  7 0.6628\n",
      "Sample:  8 0.7752\n",
      "Sample:  9 0.7771\n"
     ]
    }
   ],
   "source": [
    "from pyfirmata import Arduino, util\n",
    "from time import sleep\n",
    "\n",
    "port = '/dev/cu.usbmodem1411'  # Change this for your particular installation\n",
    "board = Arduino(port)\n",
    "\n",
    "sleep(1)  # Allow time for the Arduino to initialise\n",
    "\n",
    "it = util.Iterator(board) # These two lines prevent the serial buffer from overflowing\n",
    "it.start()\n",
    "\n",
    "sleep(1)  # Allow time for the Arduino to catch up\n",
    "\n",
    "pin = 0  # Choose one of the analog pins as input\n",
    "samples = 10 # Set number of samples to take\n",
    "\n",
    "board.analog[pin].enable_reporting()  # Enable reading from the chosen pin\n",
    "\n",
    "for i in range(0, samples):\n",
    "    sleep(1)\n",
    "    print(\"Sample: \",i,board.analog[pin].read()) # Read a value and print it\n",
    "\n",
    "board.analog[pin].disable_reporting()  # Disable reading from the chosen pin\n",
    "board.exit()  # Tidy closure of Arduino"
   ]
  },
  {
   "cell_type": "markdown",
   "metadata": {},
   "source": [
    "## A.8 Final points\n",
    "* If the above programs fail to execute from within the Jupyter notebook, the simplest solution is often to copy the code into a separate script file and execute it from the command line.\n",
    "* The Firmata protocol is only one of many that perform similar operations on the Arduino.  More are available from the Arduino IDE menu.\n",
    "* An alternative python interface to work with the Firmata protocol is provided by the PyMata module, available from https://pypi.python.org/pypi/PyMata/2.17 ."
   ]
  },
  {
   "cell_type": "markdown",
   "metadata": {},
   "source": []
  }
 ],
 "metadata": {
  "celltoolbar": "Raw Cell Format",
  "kernelspec": {
   "display_name": "Python 3",
   "language": "python",
   "name": "python3"
  },
  "language_info": {
   "codemirror_mode": {
    "name": "ipython",
    "version": 3
   },
   "file_extension": ".py",
   "mimetype": "text/x-python",
   "name": "python",
   "nbconvert_exporter": "python",
   "pygments_lexer": "ipython3",
   "version": "3.7.6"
  }
 },
 "nbformat": 4,
 "nbformat_minor": 2
}
